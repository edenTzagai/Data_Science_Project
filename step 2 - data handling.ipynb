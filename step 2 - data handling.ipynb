{
 "cells": [
  {
   "cell_type": "markdown",
   "id": "09b6282f",
   "metadata": {},
   "source": [
    "# Data Handling:"
   ]
  },
  {
   "cell_type": "code",
   "execution_count": 1,
   "id": "dd7f4ebf",
   "metadata": {},
   "outputs": [],
   "source": [
    "from tqdm import tqdm\n",
    "import pandas as pd\n",
    "import requests\n",
    "import numpy as np\n",
    "from bs4 import BeautifulSoup\n",
    "import time\n",
    "import random\n",
    "import csv"
   ]
  },
  {
   "cell_type": "code",
   "execution_count": 2,
   "id": "e91a282f",
   "metadata": {},
   "outputs": [
    {
     "data": {
      "text/html": [
       "<div>\n",
       "<style scoped>\n",
       "    .dataframe tbody tr th:only-of-type {\n",
       "        vertical-align: middle;\n",
       "    }\n",
       "\n",
       "    .dataframe tbody tr th {\n",
       "        vertical-align: top;\n",
       "    }\n",
       "\n",
       "    .dataframe thead th {\n",
       "        text-align: right;\n",
       "    }\n",
       "</style>\n",
       "<table border=\"1\" class=\"dataframe\">\n",
       "  <thead>\n",
       "    <tr style=\"text-align: right;\">\n",
       "      <th></th>\n",
       "      <th>Name</th>\n",
       "      <th>Country</th>\n",
       "      <th>English Level</th>\n",
       "      <th>Price</th>\n",
       "      <th>Diploma</th>\n",
       "      <th>Certificate</th>\n",
       "      <th>Response Time</th>\n",
       "      <th>No Of Lessons</th>\n",
       "      <th>Stars</th>\n",
       "      <th>Reviews</th>\n",
       "    </tr>\n",
       "  </thead>\n",
       "  <tbody>\n",
       "    <tr>\n",
       "      <th>0</th>\n",
       "      <td>James W.</td>\n",
       "      <td>United States of America</td>\n",
       "      <td>A2</td>\n",
       "      <td>126.0</td>\n",
       "      <td>NaN</td>\n",
       "      <td>NaN</td>\n",
       "      <td>Usually responds in 5 hrs</td>\n",
       "      <td>6,473</td>\n",
       "      <td>4.9</td>\n",
       "      <td>65.0</td>\n",
       "    </tr>\n",
       "    <tr>\n",
       "      <th>1</th>\n",
       "      <td>Taylor T.</td>\n",
       "      <td>United States of America</td>\n",
       "      <td>A1</td>\n",
       "      <td>52.0</td>\n",
       "      <td>NaN</td>\n",
       "      <td>NaN</td>\n",
       "      <td>Usually responds in more than a day</td>\n",
       "      <td>560</td>\n",
       "      <td>5.0</td>\n",
       "      <td>8.0</td>\n",
       "    </tr>\n",
       "    <tr>\n",
       "      <th>2</th>\n",
       "      <td>Desmond A.</td>\n",
       "      <td>Ghana</td>\n",
       "      <td>Native</td>\n",
       "      <td>45.0</td>\n",
       "      <td>Diploma verified</td>\n",
       "      <td>NaN</td>\n",
       "      <td>Usually responds in 1 hour</td>\n",
       "      <td>10,328</td>\n",
       "      <td>4.8</td>\n",
       "      <td>117.0</td>\n",
       "    </tr>\n",
       "    <tr>\n",
       "      <th>3</th>\n",
       "      <td>Joy L.</td>\n",
       "      <td>United States of America</td>\n",
       "      <td>Native</td>\n",
       "      <td>74.0</td>\n",
       "      <td>Diploma verified</td>\n",
       "      <td>Certificate verified</td>\n",
       "      <td>Usually responds in 1 hour</td>\n",
       "      <td>423</td>\n",
       "      <td>5.0</td>\n",
       "      <td>6.0</td>\n",
       "    </tr>\n",
       "    <tr>\n",
       "      <th>4</th>\n",
       "      <td>Noelle S.</td>\n",
       "      <td>United States of America</td>\n",
       "      <td>Native</td>\n",
       "      <td>37.0</td>\n",
       "      <td>NaN</td>\n",
       "      <td>Certificate verified</td>\n",
       "      <td>Usually responds in 9 hrs</td>\n",
       "      <td>2</td>\n",
       "      <td>NaN</td>\n",
       "      <td>NaN</td>\n",
       "    </tr>\n",
       "    <tr>\n",
       "      <th>...</th>\n",
       "      <td>...</td>\n",
       "      <td>...</td>\n",
       "      <td>...</td>\n",
       "      <td>...</td>\n",
       "      <td>...</td>\n",
       "      <td>...</td>\n",
       "      <td>...</td>\n",
       "      <td>...</td>\n",
       "      <td>...</td>\n",
       "      <td>...</td>\n",
       "    </tr>\n",
       "    <tr>\n",
       "      <th>15178</th>\n",
       "      <td>Dewald Jaco D.</td>\n",
       "      <td>South Africa</td>\n",
       "      <td>Native</td>\n",
       "      <td>19.0</td>\n",
       "      <td>NaN</td>\n",
       "      <td>Certificate verified</td>\n",
       "      <td>NaN</td>\n",
       "      <td>NaN</td>\n",
       "      <td>NaN</td>\n",
       "      <td>NaN</td>\n",
       "    </tr>\n",
       "    <tr>\n",
       "      <th>15179</th>\n",
       "      <td>Sunday B.</td>\n",
       "      <td>Nigeria</td>\n",
       "      <td>Native</td>\n",
       "      <td>11.0</td>\n",
       "      <td>NaN</td>\n",
       "      <td>NaN</td>\n",
       "      <td>NaN</td>\n",
       "      <td>NaN</td>\n",
       "      <td>NaN</td>\n",
       "      <td>NaN</td>\n",
       "    </tr>\n",
       "    <tr>\n",
       "      <th>15180</th>\n",
       "      <td>Ernestas P.</td>\n",
       "      <td>Lithuania</td>\n",
       "      <td>C2</td>\n",
       "      <td>69.0</td>\n",
       "      <td>Diploma verified</td>\n",
       "      <td>NaN</td>\n",
       "      <td>NaN</td>\n",
       "      <td>NaN</td>\n",
       "      <td>NaN</td>\n",
       "      <td>NaN</td>\n",
       "    </tr>\n",
       "    <tr>\n",
       "      <th>15181</th>\n",
       "      <td>Ana M.</td>\n",
       "      <td>Brazil</td>\n",
       "      <td>C2</td>\n",
       "      <td>56.0</td>\n",
       "      <td>NaN</td>\n",
       "      <td>NaN</td>\n",
       "      <td>NaN</td>\n",
       "      <td>NaN</td>\n",
       "      <td>NaN</td>\n",
       "      <td>NaN</td>\n",
       "    </tr>\n",
       "    <tr>\n",
       "      <th>15182</th>\n",
       "      <td>Lok Hei L.</td>\n",
       "      <td>Hong Kong</td>\n",
       "      <td>C2</td>\n",
       "      <td>112.0</td>\n",
       "      <td>Diploma verified</td>\n",
       "      <td>Certificate verified</td>\n",
       "      <td>NaN</td>\n",
       "      <td>NaN</td>\n",
       "      <td>NaN</td>\n",
       "      <td>NaN</td>\n",
       "    </tr>\n",
       "  </tbody>\n",
       "</table>\n",
       "<p>15183 rows × 10 columns</p>\n",
       "</div>"
      ],
      "text/plain": [
       "                 Name                  Country  English Level  Price  \\\n",
       "0            James W.  United States of America            A2  126.0   \n",
       "1           Taylor T.  United States of America            A1   52.0   \n",
       "2          Desmond A.                     Ghana        Native   45.0   \n",
       "3              Joy L.  United States of America        Native   74.0   \n",
       "4           Noelle S.  United States of America        Native   37.0   \n",
       "...               ...                       ...           ...    ...   \n",
       "15178  Dewald Jaco D.              South Africa        Native   19.0   \n",
       "15179       Sunday B.                   Nigeria        Native   11.0   \n",
       "15180     Ernestas P.                 Lithuania            C2   69.0   \n",
       "15181          Ana M.                    Brazil            C2   56.0   \n",
       "15182      Lok Hei L.                 Hong Kong            C2  112.0   \n",
       "\n",
       "                Diploma           Certificate  \\\n",
       "0                   NaN                   NaN   \n",
       "1                   NaN                   NaN   \n",
       "2      Diploma verified                   NaN   \n",
       "3      Diploma verified  Certificate verified   \n",
       "4                   NaN  Certificate verified   \n",
       "...                 ...                   ...   \n",
       "15178               NaN  Certificate verified   \n",
       "15179               NaN                   NaN   \n",
       "15180  Diploma verified                   NaN   \n",
       "15181               NaN                   NaN   \n",
       "15182  Diploma verified  Certificate verified   \n",
       "\n",
       "                             Response Time No Of Lessons  Stars  Reviews  \n",
       "0                Usually responds in 5 hrs         6,473    4.9     65.0  \n",
       "1      Usually responds in more than a day           560    5.0      8.0  \n",
       "2               Usually responds in 1 hour        10,328    4.8    117.0  \n",
       "3               Usually responds in 1 hour           423    5.0      6.0  \n",
       "4                Usually responds in 9 hrs             2    NaN      NaN  \n",
       "...                                    ...           ...    ...      ...  \n",
       "15178                                  NaN           NaN    NaN      NaN  \n",
       "15179                                  NaN           NaN    NaN      NaN  \n",
       "15180                                  NaN           NaN    NaN      NaN  \n",
       "15181                                  NaN           NaN    NaN      NaN  \n",
       "15182                                  NaN           NaN    NaN      NaN  \n",
       "\n",
       "[15183 rows x 10 columns]"
      ]
     },
     "execution_count": 2,
     "metadata": {},
     "output_type": "execute_result"
    }
   ],
   "source": [
    "df = pd.read_csv('Data Frame (After Setp 1).csv')\n",
    "df2 = df.copy()\n",
    "df2"
   ]
  },
  {
   "cell_type": "code",
   "execution_count": 3,
   "id": "3830e9d8",
   "metadata": {},
   "outputs": [
    {
     "data": {
      "text/plain": [
       "3621"
      ]
     },
     "execution_count": 3,
     "metadata": {},
     "output_type": "execute_result"
    }
   ],
   "source": [
    "df2.duplicated().sum()"
   ]
  },
  {
   "cell_type": "markdown",
   "id": "b304c158",
   "metadata": {},
   "source": [
    "During a preliminary examination of the dataframe, several issues have been identified within the columns. Specifically, there are 3621 rows that appear to be duplicated or replicated. This indicates the presence of redundant data that needs to be addressed. It is essential to resolve these problems to ensure data accuracy and integrity."
   ]
  },
  {
   "cell_type": "code",
   "execution_count": 4,
   "id": "91ad679d",
   "metadata": {},
   "outputs": [
    {
     "data": {
      "text/plain": [
       "0"
      ]
     },
     "execution_count": 4,
     "metadata": {},
     "output_type": "execute_result"
    }
   ],
   "source": [
    "df2 = df2.drop_duplicates()\n",
    "df2.duplicated().sum()"
   ]
  },
  {
   "cell_type": "code",
   "execution_count": 5,
   "id": "13bcbae0",
   "metadata": {},
   "outputs": [
    {
     "name": "stdout",
     "output_type": "stream",
     "text": [
      "<class 'pandas.core.frame.DataFrame'>\n",
      "Index: 11562 entries, 0 to 15177\n",
      "Data columns (total 10 columns):\n",
      " #   Column         Non-Null Count  Dtype  \n",
      "---  ------         --------------  -----  \n",
      " 0   Name           11561 non-null  object \n",
      " 1   Country        11561 non-null  object \n",
      " 2   English Level  11561 non-null  object \n",
      " 3   Price          11561 non-null  float64\n",
      " 4   Diploma        5025 non-null   object \n",
      " 5   Certificate    7441 non-null   object \n",
      " 6   Response Time  8636 non-null   object \n",
      " 7   No Of Lessons  8932 non-null   object \n",
      " 8   Stars          7308 non-null   float64\n",
      " 9   Reviews        7308 non-null   float64\n",
      "dtypes: float64(3), object(7)\n",
      "memory usage: 993.6+ KB\n"
     ]
    }
   ],
   "source": [
    "df2.info()"
   ]
  },
  {
   "cell_type": "markdown",
   "id": "c2939187",
   "metadata": {},
   "source": [
    "After careful consideration, we have made the decision to update the parameters within the \"Diploma\" and \"Certificate\" columns of the dataset. Our new approach involves labeling any teacher who possesses the respective qualification with 'Yes', while indicating 'No' for those who do not meet the criteria."
   ]
  },
  {
   "cell_type": "code",
   "execution_count": 6,
   "id": "98ac6e34",
   "metadata": {},
   "outputs": [
    {
     "name": "stderr",
     "output_type": "stream",
     "text": [
      "C:\\Users\\edent\\AppData\\Local\\Temp\\ipykernel_21436\\2609140498.py:1: SettingWithCopyWarning: \n",
      "A value is trying to be set on a copy of a slice from a DataFrame.\n",
      "Try using .loc[row_indexer,col_indexer] = value instead\n",
      "\n",
      "See the caveats in the documentation: https://pandas.pydata.org/pandas-docs/stable/user_guide/indexing.html#returning-a-view-versus-a-copy\n",
      "  df2['Diploma'] = df2['Diploma'].replace(np.nan,'No',inplace=False)\n",
      "C:\\Users\\edent\\AppData\\Local\\Temp\\ipykernel_21436\\2609140498.py:2: SettingWithCopyWarning: \n",
      "A value is trying to be set on a copy of a slice from a DataFrame.\n",
      "Try using .loc[row_indexer,col_indexer] = value instead\n",
      "\n",
      "See the caveats in the documentation: https://pandas.pydata.org/pandas-docs/stable/user_guide/indexing.html#returning-a-view-versus-a-copy\n",
      "  df2['Diploma'] = df2['Diploma'].replace('Diploma verified','Yes',inplace=False)\n",
      "C:\\Users\\edent\\AppData\\Local\\Temp\\ipykernel_21436\\2609140498.py:3: SettingWithCopyWarning: \n",
      "A value is trying to be set on a copy of a slice from a DataFrame.\n",
      "Try using .loc[row_indexer,col_indexer] = value instead\n",
      "\n",
      "See the caveats in the documentation: https://pandas.pydata.org/pandas-docs/stable/user_guide/indexing.html#returning-a-view-versus-a-copy\n",
      "  df2['Certificate'] = df2['Certificate'].replace(np.nan,'No',inplace=False)\n",
      "C:\\Users\\edent\\AppData\\Local\\Temp\\ipykernel_21436\\2609140498.py:4: SettingWithCopyWarning: \n",
      "A value is trying to be set on a copy of a slice from a DataFrame.\n",
      "Try using .loc[row_indexer,col_indexer] = value instead\n",
      "\n",
      "See the caveats in the documentation: https://pandas.pydata.org/pandas-docs/stable/user_guide/indexing.html#returning-a-view-versus-a-copy\n",
      "  df2['Certificate'] = df2['Certificate'].replace('Certificate verified','Yes',inplace=False)\n"
     ]
    }
   ],
   "source": [
    "df2['Diploma'] = df2['Diploma'].replace(np.nan,'No',inplace=False)\n",
    "df2['Diploma'] = df2['Diploma'].replace('Diploma verified','Yes',inplace=False)\n",
    "df2['Certificate'] = df2['Certificate'].replace(np.nan,'No',inplace=False)\n",
    "df2['Certificate'] = df2['Certificate'].replace('Certificate verified','Yes',inplace=False)"
   ]
  },
  {
   "cell_type": "markdown",
   "id": "d284243a",
   "metadata": {},
   "source": [
    "Upon observation of the \"Response Time\" column, we have observed that certain teachers provide specific time values, while others express approximate times using textual descriptions. Recognizing the presence of identifiable patterns within this column, we have undertaken the task of converting these textual representations into numerical values."
   ]
  },
  {
   "cell_type": "code",
   "execution_count": 7,
   "id": "015fcc62",
   "metadata": {},
   "outputs": [
    {
     "name": "stderr",
     "output_type": "stream",
     "text": [
      "C:\\Users\\edent\\AppData\\Local\\Temp\\ipykernel_21436\\2357197741.py:1: SettingWithCopyWarning: \n",
      "A value is trying to be set on a copy of a slice from a DataFrame.\n",
      "Try using .loc[row_indexer,col_indexer] = value instead\n",
      "\n",
      "See the caveats in the documentation: https://pandas.pydata.org/pandas-docs/stable/user_guide/indexing.html#returning-a-view-versus-a-copy\n",
      "  df2['Response Time'] = df2['Response Time'].replace('Usually responds in less than an hour','1',inplace=False)\n",
      "C:\\Users\\edent\\AppData\\Local\\Temp\\ipykernel_21436\\2357197741.py:2: SettingWithCopyWarning: \n",
      "A value is trying to be set on a copy of a slice from a DataFrame.\n",
      "Try using .loc[row_indexer,col_indexer] = value instead\n",
      "\n",
      "See the caveats in the documentation: https://pandas.pydata.org/pandas-docs/stable/user_guide/indexing.html#returning-a-view-versus-a-copy\n",
      "  df2['Response Time'] = df2['Response Time'].replace('Usually responds in more than a day','24',inplace=False)\n",
      "C:\\Users\\edent\\AppData\\Local\\Temp\\ipykernel_21436\\2357197741.py:3: SettingWithCopyWarning: \n",
      "A value is trying to be set on a copy of a slice from a DataFrame.\n",
      "Try using .loc[row_indexer,col_indexer] = value instead\n",
      "\n",
      "See the caveats in the documentation: https://pandas.pydata.org/pandas-docs/stable/user_guide/indexing.html#returning-a-view-versus-a-copy\n",
      "  df2['Response Time'] = df2['Response Time'].replace(np.nan,'0',inplace=False)\n",
      "C:\\Users\\edent\\AppData\\Local\\Temp\\ipykernel_21436\\2357197741.py:4: SettingWithCopyWarning: \n",
      "A value is trying to be set on a copy of a slice from a DataFrame.\n",
      "Try using .loc[row_indexer,col_indexer] = value instead\n",
      "\n",
      "See the caveats in the documentation: https://pandas.pydata.org/pandas-docs/stable/user_guide/indexing.html#returning-a-view-versus-a-copy\n",
      "  df2['Response Time'] = df2['Response Time'].str.extract(r'(\\d+)')\n"
     ]
    }
   ],
   "source": [
    "df2['Response Time'] = df2['Response Time'].replace('Usually responds in less than an hour','1',inplace=False)\n",
    "df2['Response Time'] = df2['Response Time'].replace('Usually responds in more than a day','24',inplace=False)\n",
    "df2['Response Time'] = df2['Response Time'].replace(np.nan,'0',inplace=False)\n",
    "df2['Response Time'] = df2['Response Time'].str.extract(r'(\\d+)')"
   ]
  },
  {
   "cell_type": "markdown",
   "id": "afaef169",
   "metadata": {},
   "source": [
    "We encountered two challenges while processing the dataset. Firstly, certain columns contained comma-separated values, and secondly, some columns still contained 'NaN' entries. To address these issues, we employed the following steps:\n",
    "\n",
    "1. Handling columns with comma-separated values: We performed data cleansing by removing commas from the affected columns. This allowed us to ensure consistency and facilitate further data manipulation.\n",
    "2. Managing 'NaN' entries: To ensure data completeness and reliability, we diligently addressed the presence of 'NaN' values by removing them from the dataset."
   ]
  },
  {
   "cell_type": "code",
   "execution_count": 8,
   "id": "0843e07f",
   "metadata": {},
   "outputs": [],
   "source": [
    "df2 = df2.dropna()\n",
    "df2['No Of Lessons'] = df2['No Of Lessons'].astype(str).str.replace(',', '')\n",
    "df2['No Of Lessons'] = df2['No Of Lessons'].replace(np.nan,'1',inplace=False)"
   ]
  },
  {
   "cell_type": "markdown",
   "id": "3ac30e33",
   "metadata": {},
   "source": [
    "In order to facilitate data analysis and computations, we have successfully converted the following columns to numeric types:\n",
    "\n",
    "Column 1: 'No Of Lessons'\n",
    "Column 2: 'Response Time'\n",
    "Column 3: 'Reviews'\n",
    "By converting these columns to numeric types, we have transformed the data into a format that allows for numerical calculations and statistical operations, enabling more comprehensive analysis and insights to be derived from the dataset."
   ]
  },
  {
   "cell_type": "code",
   "execution_count": 9,
   "id": "81cd6c44",
   "metadata": {
    "scrolled": true
   },
   "outputs": [],
   "source": [
    "df2['No Of Lessons'] = pd.to_numeric(df2['No Of Lessons'])\n",
    "df2['Response Time'] = pd.to_numeric(df2['Response Time'])\n",
    "df2['Reviews'] = pd.to_numeric(df2['Reviews'],downcast ='integer')"
   ]
  },
  {
   "cell_type": "markdown",
   "id": "d912d651",
   "metadata": {},
   "source": [
    "During the exploratory data analysis (EDA) in step 3, we discovered an anomaly in the ratio between the star ratings, number of reviews, and the overall popularity of teachers. To rectify this issue, we returned to step 2 and introduced a customized logarithmic decimal base calculation.\n",
    "\n",
    "Specifically, we utilized the formula:\n",
    "Popularity Score=Stars*log10(Reviews)\n",
    "\n",
    "This calculation involves taking the logarithm (base 10) of the number of reviews and multiplying it by the corresponding star ratings. The intention behind this calculation is to adjust the impact of reviews based on their logarithmic scale. By applying this transformation, we aim to achieve a more balanced and meaningful representation of a teacher's popularity, accounting for the relative significance of both star ratings and the logarithmically scaled number of reviews.\n",
    "\n",
    "This approach allows us to consider the overall popularity score as a combined metric that takes into account both star ratings and the logarithmically transformed number of reviews, providing a more accurate assessment of a tutor's popularity within the dataset."
   ]
  },
  {
   "cell_type": "code",
   "execution_count": 10,
   "id": "e6ab07e0",
   "metadata": {},
   "outputs": [],
   "source": [
    "df2['Popularity Score'] = (df2['Stars'] * np.log10( df2['Reviews']))"
   ]
  },
  {
   "cell_type": "code",
   "execution_count": 11,
   "id": "b8ef216d",
   "metadata": {},
   "outputs": [
    {
     "name": "stdout",
     "output_type": "stream",
     "text": [
      "<class 'pandas.core.frame.DataFrame'>\n",
      "Index: 7303 entries, 0 to 15151\n",
      "Data columns (total 11 columns):\n",
      " #   Column            Non-Null Count  Dtype  \n",
      "---  ------            --------------  -----  \n",
      " 0   Name              7303 non-null   object \n",
      " 1   Country           7303 non-null   object \n",
      " 2   English Level     7303 non-null   object \n",
      " 3   Price             7303 non-null   float64\n",
      " 4   Diploma           7303 non-null   object \n",
      " 5   Certificate       7303 non-null   object \n",
      " 6   Response Time     7303 non-null   int64  \n",
      " 7   No Of Lessons     7303 non-null   int64  \n",
      " 8   Stars             7303 non-null   float64\n",
      " 9   Reviews           7303 non-null   int16  \n",
      " 10  Popularity Score  7303 non-null   float64\n",
      "dtypes: float64(3), int16(1), int64(2), object(5)\n",
      "memory usage: 641.9+ KB\n"
     ]
    }
   ],
   "source": [
    "df2.info()"
   ]
  },
  {
   "cell_type": "markdown",
   "id": "7f94bc30",
   "metadata": {},
   "source": [
    "#### This is our dataset after handling"
   ]
  },
  {
   "cell_type": "code",
   "execution_count": 12,
   "id": "c9c76691",
   "metadata": {},
   "outputs": [],
   "source": [
    "# df2.to_csv('Data Frame (After Setp 2).csv', index=False)\n",
    "# df2.to_excel('Data Frame (After Setp 2).xlsx', index=False)"
   ]
  }
 ],
 "metadata": {
  "kernelspec": {
   "display_name": "Python 3 (ipykernel)",
   "language": "python",
   "name": "python3"
  },
  "language_info": {
   "codemirror_mode": {
    "name": "ipython",
    "version": 3
   },
   "file_extension": ".py",
   "mimetype": "text/x-python",
   "name": "python",
   "nbconvert_exporter": "python",
   "pygments_lexer": "ipython3",
   "version": "3.10.9"
  }
 },
 "nbformat": 4,
 "nbformat_minor": 5
}
