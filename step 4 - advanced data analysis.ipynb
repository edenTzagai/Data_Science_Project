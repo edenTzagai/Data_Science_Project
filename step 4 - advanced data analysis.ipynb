{
 "cells": [
  {
   "cell_type": "markdown",
   "id": "9a85a5a1",
   "metadata": {},
   "source": [
    "# Advanced Data Analysis:"
   ]
  },
  {
   "cell_type": "code",
   "execution_count": 1,
   "id": "c4ddb1d0",
   "metadata": {},
   "outputs": [],
   "source": [
    "import pandas as pd\n",
    "import numpy as np\n",
    "from matplotlib import pyplot as plt\n",
    "%matplotlib inline\n",
    "import sklearn\n",
    "from sklearn import linear_model, metrics, preprocessing\n",
    "from sklearn.preprocessing import StandardScaler, MinMaxScaler\n",
    "from sklearn.linear_model import LogisticRegression, LinearRegression\n",
    "from sklearn.metrics import r2_score, f1_score, mean_squared_error\n",
    "from sklearn.preprocessing import LabelEncoder\n",
    "from sklearn.model_selection import train_test_split\n",
    "from sklearn.preprocessing import PowerTransformer\n",
    "from sklearn import tree\n",
    "from sklearn.neighbors import KNeighborsRegressor\n",
    "from sklearn.ensemble import RandomForestRegressor\n",
    "import scipy\n",
    "from scipy import stats\n",
    "from scipy.interpolate import interp1d\n",
    "from scipy.signal import butter, filtfilt\n",
    "\n",
    "from sklearn.preprocessing import MinMaxScaler, StandardScaler\n",
    "from sklearn.svm import SVR\n",
    "from sklearn.metrics import accuracy_score\n",
    "from sklearn.naive_bayes import MultinomialNB"
   ]
  },
  {
   "cell_type": "code",
   "execution_count": 2,
   "id": "00b16822",
   "metadata": {},
   "outputs": [],
   "source": [
    "df = pd.read_csv('Data Frame (After Setp 3).csv')"
   ]
  },
  {
   "cell_type": "code",
   "execution_count": 3,
   "id": "27f69200",
   "metadata": {
    "scrolled": false
   },
   "outputs": [
    {
     "data": {
      "text/html": [
       "<div>\n",
       "<style scoped>\n",
       "    .dataframe tbody tr th:only-of-type {\n",
       "        vertical-align: middle;\n",
       "    }\n",
       "\n",
       "    .dataframe tbody tr th {\n",
       "        vertical-align: top;\n",
       "    }\n",
       "\n",
       "    .dataframe thead th {\n",
       "        text-align: right;\n",
       "    }\n",
       "</style>\n",
       "<table border=\"1\" class=\"dataframe\">\n",
       "  <thead>\n",
       "    <tr style=\"text-align: right;\">\n",
       "      <th></th>\n",
       "      <th>Unnamed: 0</th>\n",
       "      <th>Country</th>\n",
       "      <th>English Level</th>\n",
       "      <th>Price</th>\n",
       "      <th>Diploma</th>\n",
       "      <th>Certificate</th>\n",
       "      <th>Response Time</th>\n",
       "      <th>No Of Lessons</th>\n",
       "      <th>Stars</th>\n",
       "      <th>Reviews</th>\n",
       "      <th>Popularity Score</th>\n",
       "    </tr>\n",
       "  </thead>\n",
       "  <tbody>\n",
       "    <tr>\n",
       "      <th>0</th>\n",
       "      <td>0</td>\n",
       "      <td>United States of America</td>\n",
       "      <td>A2</td>\n",
       "      <td>126</td>\n",
       "      <td>No</td>\n",
       "      <td>No</td>\n",
       "      <td>5</td>\n",
       "      <td>6473</td>\n",
       "      <td>4.9</td>\n",
       "      <td>65</td>\n",
       "      <td>8.883275</td>\n",
       "    </tr>\n",
       "    <tr>\n",
       "      <th>1</th>\n",
       "      <td>1</td>\n",
       "      <td>United States of America</td>\n",
       "      <td>A1</td>\n",
       "      <td>52</td>\n",
       "      <td>No</td>\n",
       "      <td>No</td>\n",
       "      <td>24</td>\n",
       "      <td>560</td>\n",
       "      <td>5.0</td>\n",
       "      <td>8</td>\n",
       "      <td>4.515450</td>\n",
       "    </tr>\n",
       "    <tr>\n",
       "      <th>2</th>\n",
       "      <td>2</td>\n",
       "      <td>Ghana</td>\n",
       "      <td>Native</td>\n",
       "      <td>45</td>\n",
       "      <td>Yes</td>\n",
       "      <td>No</td>\n",
       "      <td>1</td>\n",
       "      <td>10328</td>\n",
       "      <td>4.8</td>\n",
       "      <td>117</td>\n",
       "      <td>9.927292</td>\n",
       "    </tr>\n",
       "    <tr>\n",
       "      <th>3</th>\n",
       "      <td>3</td>\n",
       "      <td>United States of America</td>\n",
       "      <td>Native</td>\n",
       "      <td>74</td>\n",
       "      <td>Yes</td>\n",
       "      <td>Yes</td>\n",
       "      <td>1</td>\n",
       "      <td>423</td>\n",
       "      <td>5.0</td>\n",
       "      <td>6</td>\n",
       "      <td>3.890756</td>\n",
       "    </tr>\n",
       "    <tr>\n",
       "      <th>4</th>\n",
       "      <td>4</td>\n",
       "      <td>United Kingdom</td>\n",
       "      <td>Native</td>\n",
       "      <td>67</td>\n",
       "      <td>No</td>\n",
       "      <td>Yes</td>\n",
       "      <td>7</td>\n",
       "      <td>7444</td>\n",
       "      <td>4.8</td>\n",
       "      <td>156</td>\n",
       "      <td>10.526998</td>\n",
       "    </tr>\n",
       "    <tr>\n",
       "      <th>...</th>\n",
       "      <td>...</td>\n",
       "      <td>...</td>\n",
       "      <td>...</td>\n",
       "      <td>...</td>\n",
       "      <td>...</td>\n",
       "      <td>...</td>\n",
       "      <td>...</td>\n",
       "      <td>...</td>\n",
       "      <td>...</td>\n",
       "      <td>...</td>\n",
       "      <td>...</td>\n",
       "    </tr>\n",
       "    <tr>\n",
       "      <th>7303</th>\n",
       "      <td>7303</td>\n",
       "      <td>United States of America</td>\n",
       "      <td>Native</td>\n",
       "      <td>104</td>\n",
       "      <td>Yes</td>\n",
       "      <td>Yes</td>\n",
       "      <td>8</td>\n",
       "      <td>1156</td>\n",
       "      <td>5.0</td>\n",
       "      <td>6</td>\n",
       "      <td>3.890756</td>\n",
       "    </tr>\n",
       "    <tr>\n",
       "      <th>7304</th>\n",
       "      <td>7304</td>\n",
       "      <td>Egypt</td>\n",
       "      <td>C1</td>\n",
       "      <td>37</td>\n",
       "      <td>No</td>\n",
       "      <td>Yes</td>\n",
       "      <td>2</td>\n",
       "      <td>30</td>\n",
       "      <td>5.0</td>\n",
       "      <td>2</td>\n",
       "      <td>1.505150</td>\n",
       "    </tr>\n",
       "    <tr>\n",
       "      <th>7305</th>\n",
       "      <td>7305</td>\n",
       "      <td>United States of America</td>\n",
       "      <td>Native</td>\n",
       "      <td>149</td>\n",
       "      <td>Yes</td>\n",
       "      <td>No</td>\n",
       "      <td>2</td>\n",
       "      <td>62</td>\n",
       "      <td>5.0</td>\n",
       "      <td>3</td>\n",
       "      <td>2.385606</td>\n",
       "    </tr>\n",
       "    <tr>\n",
       "      <th>7306</th>\n",
       "      <td>7306</td>\n",
       "      <td>France</td>\n",
       "      <td>Native</td>\n",
       "      <td>75</td>\n",
       "      <td>Yes</td>\n",
       "      <td>Yes</td>\n",
       "      <td>4</td>\n",
       "      <td>531</td>\n",
       "      <td>5.0</td>\n",
       "      <td>5</td>\n",
       "      <td>3.494850</td>\n",
       "    </tr>\n",
       "    <tr>\n",
       "      <th>7307</th>\n",
       "      <td>7307</td>\n",
       "      <td>United States of America</td>\n",
       "      <td>Native</td>\n",
       "      <td>104</td>\n",
       "      <td>Yes</td>\n",
       "      <td>Yes</td>\n",
       "      <td>2</td>\n",
       "      <td>659</td>\n",
       "      <td>5.0</td>\n",
       "      <td>2</td>\n",
       "      <td>1.505150</td>\n",
       "    </tr>\n",
       "  </tbody>\n",
       "</table>\n",
       "<p>7308 rows × 11 columns</p>\n",
       "</div>"
      ],
      "text/plain": [
       "      Unnamed: 0                  Country  English Level  Price Diploma  \\\n",
       "0              0  United States of America            A2    126      No   \n",
       "1              1  United States of America            A1     52      No   \n",
       "2              2                     Ghana        Native     45     Yes   \n",
       "3              3  United States of America        Native     74     Yes   \n",
       "4              4            United Kingdom        Native     67      No   \n",
       "...          ...                       ...           ...    ...     ...   \n",
       "7303        7303  United States of America        Native    104     Yes   \n",
       "7304        7304                     Egypt            C1     37      No   \n",
       "7305        7305  United States of America        Native    149     Yes   \n",
       "7306        7306                    France        Native     75     Yes   \n",
       "7307        7307  United States of America        Native    104     Yes   \n",
       "\n",
       "     Certificate  Response Time  No Of Lessons  Stars  Reviews  \\\n",
       "0             No              5           6473    4.9       65   \n",
       "1             No             24            560    5.0        8   \n",
       "2             No              1          10328    4.8      117   \n",
       "3            Yes              1            423    5.0        6   \n",
       "4            Yes              7           7444    4.8      156   \n",
       "...          ...            ...            ...    ...      ...   \n",
       "7303         Yes              8           1156    5.0        6   \n",
       "7304         Yes              2             30    5.0        2   \n",
       "7305          No              2             62    5.0        3   \n",
       "7306         Yes              4            531    5.0        5   \n",
       "7307         Yes              2            659    5.0        2   \n",
       "\n",
       "      Popularity Score  \n",
       "0             8.883275  \n",
       "1             4.515450  \n",
       "2             9.927292  \n",
       "3             3.890756  \n",
       "4            10.526998  \n",
       "...                ...  \n",
       "7303          3.890756  \n",
       "7304          1.505150  \n",
       "7305          2.385606  \n",
       "7306          3.494850  \n",
       "7307          1.505150  \n",
       "\n",
       "[7308 rows x 11 columns]"
      ]
     },
     "execution_count": 3,
     "metadata": {},
     "output_type": "execute_result"
    }
   ],
   "source": [
    "df"
   ]
  },
  {
   "cell_type": "markdown",
   "id": "4a8eed83",
   "metadata": {},
   "source": [
    "After careful consideration, we have made the decision to drop the columns of Stars and Reviews from our dataset. This decision was influenced by the calculations performed in step 2, which indicated a need to remove these columns to avoid bias in the data.\n",
    "\n",
    "By removing the Stars and Reviews columns, we aim to eliminate any potential influence or bias that these variables may have on our analysis. This ensures that our subsequent analyses and models are based on unbiased data, allowing for more accurate and reliable results."
   ]
  },
  {
   "cell_type": "code",
   "execution_count": 4,
   "id": "c33d348b",
   "metadata": {
    "scrolled": true
   },
   "outputs": [],
   "source": [
    "df2 = df.copy()\n",
    "df2 = df2.drop(['Unnamed: 0','Stars','Reviews'], axis=1)"
   ]
  },
  {
   "cell_type": "code",
   "execution_count": 5,
   "id": "add61e02",
   "metadata": {},
   "outputs": [
    {
     "data": {
      "text/html": [
       "<div>\n",
       "<style scoped>\n",
       "    .dataframe tbody tr th:only-of-type {\n",
       "        vertical-align: middle;\n",
       "    }\n",
       "\n",
       "    .dataframe tbody tr th {\n",
       "        vertical-align: top;\n",
       "    }\n",
       "\n",
       "    .dataframe thead th {\n",
       "        text-align: right;\n",
       "    }\n",
       "</style>\n",
       "<table border=\"1\" class=\"dataframe\">\n",
       "  <thead>\n",
       "    <tr style=\"text-align: right;\">\n",
       "      <th></th>\n",
       "      <th>Country</th>\n",
       "      <th>English Level</th>\n",
       "      <th>Price</th>\n",
       "      <th>Diploma</th>\n",
       "      <th>Certificate</th>\n",
       "      <th>Response Time</th>\n",
       "      <th>No Of Lessons</th>\n",
       "      <th>Popularity Score</th>\n",
       "    </tr>\n",
       "  </thead>\n",
       "  <tbody>\n",
       "    <tr>\n",
       "      <th>0</th>\n",
       "      <td>United States of America</td>\n",
       "      <td>A2</td>\n",
       "      <td>126</td>\n",
       "      <td>No</td>\n",
       "      <td>No</td>\n",
       "      <td>5</td>\n",
       "      <td>6473</td>\n",
       "      <td>8.883275</td>\n",
       "    </tr>\n",
       "    <tr>\n",
       "      <th>1</th>\n",
       "      <td>United States of America</td>\n",
       "      <td>A1</td>\n",
       "      <td>52</td>\n",
       "      <td>No</td>\n",
       "      <td>No</td>\n",
       "      <td>24</td>\n",
       "      <td>560</td>\n",
       "      <td>4.515450</td>\n",
       "    </tr>\n",
       "    <tr>\n",
       "      <th>2</th>\n",
       "      <td>Ghana</td>\n",
       "      <td>Native</td>\n",
       "      <td>45</td>\n",
       "      <td>Yes</td>\n",
       "      <td>No</td>\n",
       "      <td>1</td>\n",
       "      <td>10328</td>\n",
       "      <td>9.927292</td>\n",
       "    </tr>\n",
       "    <tr>\n",
       "      <th>3</th>\n",
       "      <td>United States of America</td>\n",
       "      <td>Native</td>\n",
       "      <td>74</td>\n",
       "      <td>Yes</td>\n",
       "      <td>Yes</td>\n",
       "      <td>1</td>\n",
       "      <td>423</td>\n",
       "      <td>3.890756</td>\n",
       "    </tr>\n",
       "    <tr>\n",
       "      <th>4</th>\n",
       "      <td>United Kingdom</td>\n",
       "      <td>Native</td>\n",
       "      <td>67</td>\n",
       "      <td>No</td>\n",
       "      <td>Yes</td>\n",
       "      <td>7</td>\n",
       "      <td>7444</td>\n",
       "      <td>10.526998</td>\n",
       "    </tr>\n",
       "    <tr>\n",
       "      <th>...</th>\n",
       "      <td>...</td>\n",
       "      <td>...</td>\n",
       "      <td>...</td>\n",
       "      <td>...</td>\n",
       "      <td>...</td>\n",
       "      <td>...</td>\n",
       "      <td>...</td>\n",
       "      <td>...</td>\n",
       "    </tr>\n",
       "    <tr>\n",
       "      <th>7303</th>\n",
       "      <td>United States of America</td>\n",
       "      <td>Native</td>\n",
       "      <td>104</td>\n",
       "      <td>Yes</td>\n",
       "      <td>Yes</td>\n",
       "      <td>8</td>\n",
       "      <td>1156</td>\n",
       "      <td>3.890756</td>\n",
       "    </tr>\n",
       "    <tr>\n",
       "      <th>7304</th>\n",
       "      <td>Egypt</td>\n",
       "      <td>C1</td>\n",
       "      <td>37</td>\n",
       "      <td>No</td>\n",
       "      <td>Yes</td>\n",
       "      <td>2</td>\n",
       "      <td>30</td>\n",
       "      <td>1.505150</td>\n",
       "    </tr>\n",
       "    <tr>\n",
       "      <th>7305</th>\n",
       "      <td>United States of America</td>\n",
       "      <td>Native</td>\n",
       "      <td>149</td>\n",
       "      <td>Yes</td>\n",
       "      <td>No</td>\n",
       "      <td>2</td>\n",
       "      <td>62</td>\n",
       "      <td>2.385606</td>\n",
       "    </tr>\n",
       "    <tr>\n",
       "      <th>7306</th>\n",
       "      <td>France</td>\n",
       "      <td>Native</td>\n",
       "      <td>75</td>\n",
       "      <td>Yes</td>\n",
       "      <td>Yes</td>\n",
       "      <td>4</td>\n",
       "      <td>531</td>\n",
       "      <td>3.494850</td>\n",
       "    </tr>\n",
       "    <tr>\n",
       "      <th>7307</th>\n",
       "      <td>United States of America</td>\n",
       "      <td>Native</td>\n",
       "      <td>104</td>\n",
       "      <td>Yes</td>\n",
       "      <td>Yes</td>\n",
       "      <td>2</td>\n",
       "      <td>659</td>\n",
       "      <td>1.505150</td>\n",
       "    </tr>\n",
       "  </tbody>\n",
       "</table>\n",
       "<p>7308 rows × 8 columns</p>\n",
       "</div>"
      ],
      "text/plain": [
       "                      Country  English Level  Price Diploma Certificate  \\\n",
       "0     United States of America            A2    126      No          No   \n",
       "1     United States of America            A1     52      No          No   \n",
       "2                        Ghana        Native     45     Yes          No   \n",
       "3     United States of America        Native     74     Yes         Yes   \n",
       "4               United Kingdom        Native     67      No         Yes   \n",
       "...                        ...           ...    ...     ...         ...   \n",
       "7303  United States of America        Native    104     Yes         Yes   \n",
       "7304                     Egypt            C1     37      No         Yes   \n",
       "7305  United States of America        Native    149     Yes          No   \n",
       "7306                    France        Native     75     Yes         Yes   \n",
       "7307  United States of America        Native    104     Yes         Yes   \n",
       "\n",
       "      Response Time  No Of Lessons  Popularity Score  \n",
       "0                 5           6473          8.883275  \n",
       "1                24            560          4.515450  \n",
       "2                 1          10328          9.927292  \n",
       "3                 1            423          3.890756  \n",
       "4                 7           7444         10.526998  \n",
       "...             ...            ...               ...  \n",
       "7303              8           1156          3.890756  \n",
       "7304              2             30          1.505150  \n",
       "7305              2             62          2.385606  \n",
       "7306              4            531          3.494850  \n",
       "7307              2            659          1.505150  \n",
       "\n",
       "[7308 rows x 8 columns]"
      ]
     },
     "execution_count": 5,
     "metadata": {},
     "output_type": "execute_result"
    }
   ],
   "source": [
    "df2"
   ]
  },
  {
   "cell_type": "markdown",
   "id": "92b68208",
   "metadata": {},
   "source": [
    "The code utilizes one-hot encoding to transform categorical variables in the DataFrame into binary columns. This encoding technique is employed to represent each category as a separate column with binary values (0 or 1). By doing so, it enables machine learning algorithms to effectively process and analyze categorical data.\n",
    "\n",
    "This transformation allows the categorical variables to be interpreted as numerical features, providing a format that can be easily understood and processed by machine learning models. It helps to remove any ordinal or hierarchical relationships between categories, treating them as independent attributes."
   ]
  },
  {
   "cell_type": "code",
   "execution_count": 6,
   "id": "e61fb28f",
   "metadata": {
    "scrolled": false
   },
   "outputs": [
    {
     "data": {
      "text/html": [
       "<div>\n",
       "<style scoped>\n",
       "    .dataframe tbody tr th:only-of-type {\n",
       "        vertical-align: middle;\n",
       "    }\n",
       "\n",
       "    .dataframe tbody tr th {\n",
       "        vertical-align: top;\n",
       "    }\n",
       "\n",
       "    .dataframe thead th {\n",
       "        text-align: right;\n",
       "    }\n",
       "</style>\n",
       "<table border=\"1\" class=\"dataframe\">\n",
       "  <thead>\n",
       "    <tr style=\"text-align: right;\">\n",
       "      <th></th>\n",
       "      <th>Price</th>\n",
       "      <th>Response Time</th>\n",
       "      <th>No Of Lessons</th>\n",
       "      <th>Popularity Score</th>\n",
       "      <th>Country _Afghanistan</th>\n",
       "      <th>Country _Albania</th>\n",
       "      <th>Country _Algeria</th>\n",
       "      <th>Country _Antigua and Barbuda</th>\n",
       "      <th>Country _Argentina</th>\n",
       "      <th>Country _Armenia</th>\n",
       "      <th>...</th>\n",
       "      <th>English Level_A2</th>\n",
       "      <th>English Level_B1</th>\n",
       "      <th>English Level_B2</th>\n",
       "      <th>English Level_C1</th>\n",
       "      <th>English Level_C2</th>\n",
       "      <th>English Level_Native</th>\n",
       "      <th>Diploma_No</th>\n",
       "      <th>Diploma_Yes</th>\n",
       "      <th>Certificate_No</th>\n",
       "      <th>Certificate_Yes</th>\n",
       "    </tr>\n",
       "  </thead>\n",
       "  <tbody>\n",
       "    <tr>\n",
       "      <th>0</th>\n",
       "      <td>126</td>\n",
       "      <td>5</td>\n",
       "      <td>6473</td>\n",
       "      <td>8.883275</td>\n",
       "      <td>False</td>\n",
       "      <td>False</td>\n",
       "      <td>False</td>\n",
       "      <td>False</td>\n",
       "      <td>False</td>\n",
       "      <td>False</td>\n",
       "      <td>...</td>\n",
       "      <td>True</td>\n",
       "      <td>False</td>\n",
       "      <td>False</td>\n",
       "      <td>False</td>\n",
       "      <td>False</td>\n",
       "      <td>False</td>\n",
       "      <td>True</td>\n",
       "      <td>False</td>\n",
       "      <td>True</td>\n",
       "      <td>False</td>\n",
       "    </tr>\n",
       "    <tr>\n",
       "      <th>1</th>\n",
       "      <td>52</td>\n",
       "      <td>24</td>\n",
       "      <td>560</td>\n",
       "      <td>4.515450</td>\n",
       "      <td>False</td>\n",
       "      <td>False</td>\n",
       "      <td>False</td>\n",
       "      <td>False</td>\n",
       "      <td>False</td>\n",
       "      <td>False</td>\n",
       "      <td>...</td>\n",
       "      <td>False</td>\n",
       "      <td>False</td>\n",
       "      <td>False</td>\n",
       "      <td>False</td>\n",
       "      <td>False</td>\n",
       "      <td>False</td>\n",
       "      <td>True</td>\n",
       "      <td>False</td>\n",
       "      <td>True</td>\n",
       "      <td>False</td>\n",
       "    </tr>\n",
       "    <tr>\n",
       "      <th>2</th>\n",
       "      <td>45</td>\n",
       "      <td>1</td>\n",
       "      <td>10328</td>\n",
       "      <td>9.927292</td>\n",
       "      <td>False</td>\n",
       "      <td>False</td>\n",
       "      <td>False</td>\n",
       "      <td>False</td>\n",
       "      <td>False</td>\n",
       "      <td>False</td>\n",
       "      <td>...</td>\n",
       "      <td>False</td>\n",
       "      <td>False</td>\n",
       "      <td>False</td>\n",
       "      <td>False</td>\n",
       "      <td>False</td>\n",
       "      <td>True</td>\n",
       "      <td>False</td>\n",
       "      <td>True</td>\n",
       "      <td>True</td>\n",
       "      <td>False</td>\n",
       "    </tr>\n",
       "    <tr>\n",
       "      <th>3</th>\n",
       "      <td>74</td>\n",
       "      <td>1</td>\n",
       "      <td>423</td>\n",
       "      <td>3.890756</td>\n",
       "      <td>False</td>\n",
       "      <td>False</td>\n",
       "      <td>False</td>\n",
       "      <td>False</td>\n",
       "      <td>False</td>\n",
       "      <td>False</td>\n",
       "      <td>...</td>\n",
       "      <td>False</td>\n",
       "      <td>False</td>\n",
       "      <td>False</td>\n",
       "      <td>False</td>\n",
       "      <td>False</td>\n",
       "      <td>True</td>\n",
       "      <td>False</td>\n",
       "      <td>True</td>\n",
       "      <td>False</td>\n",
       "      <td>True</td>\n",
       "    </tr>\n",
       "    <tr>\n",
       "      <th>4</th>\n",
       "      <td>67</td>\n",
       "      <td>7</td>\n",
       "      <td>7444</td>\n",
       "      <td>10.526998</td>\n",
       "      <td>False</td>\n",
       "      <td>False</td>\n",
       "      <td>False</td>\n",
       "      <td>False</td>\n",
       "      <td>False</td>\n",
       "      <td>False</td>\n",
       "      <td>...</td>\n",
       "      <td>False</td>\n",
       "      <td>False</td>\n",
       "      <td>False</td>\n",
       "      <td>False</td>\n",
       "      <td>False</td>\n",
       "      <td>True</td>\n",
       "      <td>True</td>\n",
       "      <td>False</td>\n",
       "      <td>False</td>\n",
       "      <td>True</td>\n",
       "    </tr>\n",
       "    <tr>\n",
       "      <th>...</th>\n",
       "      <td>...</td>\n",
       "      <td>...</td>\n",
       "      <td>...</td>\n",
       "      <td>...</td>\n",
       "      <td>...</td>\n",
       "      <td>...</td>\n",
       "      <td>...</td>\n",
       "      <td>...</td>\n",
       "      <td>...</td>\n",
       "      <td>...</td>\n",
       "      <td>...</td>\n",
       "      <td>...</td>\n",
       "      <td>...</td>\n",
       "      <td>...</td>\n",
       "      <td>...</td>\n",
       "      <td>...</td>\n",
       "      <td>...</td>\n",
       "      <td>...</td>\n",
       "      <td>...</td>\n",
       "      <td>...</td>\n",
       "      <td>...</td>\n",
       "    </tr>\n",
       "    <tr>\n",
       "      <th>7303</th>\n",
       "      <td>104</td>\n",
       "      <td>8</td>\n",
       "      <td>1156</td>\n",
       "      <td>3.890756</td>\n",
       "      <td>False</td>\n",
       "      <td>False</td>\n",
       "      <td>False</td>\n",
       "      <td>False</td>\n",
       "      <td>False</td>\n",
       "      <td>False</td>\n",
       "      <td>...</td>\n",
       "      <td>False</td>\n",
       "      <td>False</td>\n",
       "      <td>False</td>\n",
       "      <td>False</td>\n",
       "      <td>False</td>\n",
       "      <td>True</td>\n",
       "      <td>False</td>\n",
       "      <td>True</td>\n",
       "      <td>False</td>\n",
       "      <td>True</td>\n",
       "    </tr>\n",
       "    <tr>\n",
       "      <th>7304</th>\n",
       "      <td>37</td>\n",
       "      <td>2</td>\n",
       "      <td>30</td>\n",
       "      <td>1.505150</td>\n",
       "      <td>False</td>\n",
       "      <td>False</td>\n",
       "      <td>False</td>\n",
       "      <td>False</td>\n",
       "      <td>False</td>\n",
       "      <td>False</td>\n",
       "      <td>...</td>\n",
       "      <td>False</td>\n",
       "      <td>False</td>\n",
       "      <td>False</td>\n",
       "      <td>True</td>\n",
       "      <td>False</td>\n",
       "      <td>False</td>\n",
       "      <td>True</td>\n",
       "      <td>False</td>\n",
       "      <td>False</td>\n",
       "      <td>True</td>\n",
       "    </tr>\n",
       "    <tr>\n",
       "      <th>7305</th>\n",
       "      <td>149</td>\n",
       "      <td>2</td>\n",
       "      <td>62</td>\n",
       "      <td>2.385606</td>\n",
       "      <td>False</td>\n",
       "      <td>False</td>\n",
       "      <td>False</td>\n",
       "      <td>False</td>\n",
       "      <td>False</td>\n",
       "      <td>False</td>\n",
       "      <td>...</td>\n",
       "      <td>False</td>\n",
       "      <td>False</td>\n",
       "      <td>False</td>\n",
       "      <td>False</td>\n",
       "      <td>False</td>\n",
       "      <td>True</td>\n",
       "      <td>False</td>\n",
       "      <td>True</td>\n",
       "      <td>True</td>\n",
       "      <td>False</td>\n",
       "    </tr>\n",
       "    <tr>\n",
       "      <th>7306</th>\n",
       "      <td>75</td>\n",
       "      <td>4</td>\n",
       "      <td>531</td>\n",
       "      <td>3.494850</td>\n",
       "      <td>False</td>\n",
       "      <td>False</td>\n",
       "      <td>False</td>\n",
       "      <td>False</td>\n",
       "      <td>False</td>\n",
       "      <td>False</td>\n",
       "      <td>...</td>\n",
       "      <td>False</td>\n",
       "      <td>False</td>\n",
       "      <td>False</td>\n",
       "      <td>False</td>\n",
       "      <td>False</td>\n",
       "      <td>True</td>\n",
       "      <td>False</td>\n",
       "      <td>True</td>\n",
       "      <td>False</td>\n",
       "      <td>True</td>\n",
       "    </tr>\n",
       "    <tr>\n",
       "      <th>7307</th>\n",
       "      <td>104</td>\n",
       "      <td>2</td>\n",
       "      <td>659</td>\n",
       "      <td>1.505150</td>\n",
       "      <td>False</td>\n",
       "      <td>False</td>\n",
       "      <td>False</td>\n",
       "      <td>False</td>\n",
       "      <td>False</td>\n",
       "      <td>False</td>\n",
       "      <td>...</td>\n",
       "      <td>False</td>\n",
       "      <td>False</td>\n",
       "      <td>False</td>\n",
       "      <td>False</td>\n",
       "      <td>False</td>\n",
       "      <td>True</td>\n",
       "      <td>False</td>\n",
       "      <td>True</td>\n",
       "      <td>False</td>\n",
       "      <td>True</td>\n",
       "    </tr>\n",
       "  </tbody>\n",
       "</table>\n",
       "<p>7308 rows × 154 columns</p>\n",
       "</div>"
      ],
      "text/plain": [
       "      Price  Response Time  No Of Lessons  Popularity Score  \\\n",
       "0       126              5           6473          8.883275   \n",
       "1        52             24            560          4.515450   \n",
       "2        45              1          10328          9.927292   \n",
       "3        74              1            423          3.890756   \n",
       "4        67              7           7444         10.526998   \n",
       "...     ...            ...            ...               ...   \n",
       "7303    104              8           1156          3.890756   \n",
       "7304     37              2             30          1.505150   \n",
       "7305    149              2             62          2.385606   \n",
       "7306     75              4            531          3.494850   \n",
       "7307    104              2            659          1.505150   \n",
       "\n",
       "      Country _Afghanistan  Country _Albania  Country _Algeria  \\\n",
       "0                    False             False             False   \n",
       "1                    False             False             False   \n",
       "2                    False             False             False   \n",
       "3                    False             False             False   \n",
       "4                    False             False             False   \n",
       "...                    ...               ...               ...   \n",
       "7303                 False             False             False   \n",
       "7304                 False             False             False   \n",
       "7305                 False             False             False   \n",
       "7306                 False             False             False   \n",
       "7307                 False             False             False   \n",
       "\n",
       "      Country _Antigua and Barbuda  Country _Argentina  Country _Armenia  ...  \\\n",
       "0                            False               False             False  ...   \n",
       "1                            False               False             False  ...   \n",
       "2                            False               False             False  ...   \n",
       "3                            False               False             False  ...   \n",
       "4                            False               False             False  ...   \n",
       "...                            ...                 ...               ...  ...   \n",
       "7303                         False               False             False  ...   \n",
       "7304                         False               False             False  ...   \n",
       "7305                         False               False             False  ...   \n",
       "7306                         False               False             False  ...   \n",
       "7307                         False               False             False  ...   \n",
       "\n",
       "      English Level_A2  English Level_B1  English Level_B2  English Level_C1  \\\n",
       "0                 True             False             False             False   \n",
       "1                False             False             False             False   \n",
       "2                False             False             False             False   \n",
       "3                False             False             False             False   \n",
       "4                False             False             False             False   \n",
       "...                ...               ...               ...               ...   \n",
       "7303             False             False             False             False   \n",
       "7304             False             False             False              True   \n",
       "7305             False             False             False             False   \n",
       "7306             False             False             False             False   \n",
       "7307             False             False             False             False   \n",
       "\n",
       "      English Level_C2  English Level_Native  Diploma_No  Diploma_Yes  \\\n",
       "0                False                 False        True        False   \n",
       "1                False                 False        True        False   \n",
       "2                False                  True       False         True   \n",
       "3                False                  True       False         True   \n",
       "4                False                  True        True        False   \n",
       "...                ...                   ...         ...          ...   \n",
       "7303             False                  True       False         True   \n",
       "7304             False                 False        True        False   \n",
       "7305             False                  True       False         True   \n",
       "7306             False                  True       False         True   \n",
       "7307             False                  True       False         True   \n",
       "\n",
       "      Certificate_No  Certificate_Yes  \n",
       "0               True            False  \n",
       "1               True            False  \n",
       "2               True            False  \n",
       "3              False             True  \n",
       "4              False             True  \n",
       "...              ...              ...  \n",
       "7303           False             True  \n",
       "7304           False             True  \n",
       "7305            True            False  \n",
       "7306           False             True  \n",
       "7307           False             True  \n",
       "\n",
       "[7308 rows x 154 columns]"
      ]
     },
     "execution_count": 6,
     "metadata": {},
     "output_type": "execute_result"
    }
   ],
   "source": [
    "df2 = pd.get_dummies(df2)\n",
    "df2"
   ]
  },
  {
   "cell_type": "markdown",
   "id": "d73dcb93",
   "metadata": {},
   "source": [
    "Creating the X and Y data for the ML"
   ]
  },
  {
   "cell_type": "code",
   "execution_count": 7,
   "id": "65231dfc",
   "metadata": {
    "scrolled": true
   },
   "outputs": [],
   "source": [
    "X = df2.drop(columns = ['Popularity Score'])\n",
    "y = df2['Popularity Score']\n",
    "\n",
    "X_train1, X_test1, y_train1, y_test1 = train_test_split(X,y, test_size = 0.2, random_state=42)"
   ]
  },
  {
   "cell_type": "markdown",
   "id": "cc250ff5",
   "metadata": {},
   "source": [
    "**Random Forest Model:**"
   ]
  },
  {
   "cell_type": "markdown",
   "id": "df921b94",
   "metadata": {},
   "source": [
    "The Random Forest model is a machine learning algorithm that belongs to the ensemble learning category. It combines multiple decision trees to make predictions.\n",
    "\n",
    "In a Random Forest, each decision tree is trained on a different subset of the data and uses a random selection of features. During the training process, the decision trees collectively make predictions, and the final prediction is determined by averaging or voting among the predictions of individual trees."
   ]
  },
  {
   "cell_type": "code",
   "execution_count": 8,
   "id": "4765ea9e",
   "metadata": {},
   "outputs": [],
   "source": [
    "regr = RandomForestRegressor()\n",
    "regr.fit(X=X_train1, y=y_train1)\n",
    "Rfm_pred1 = regr.predict(X_test1)"
   ]
  },
  {
   "cell_type": "code",
   "execution_count": 9,
   "id": "8c346810",
   "metadata": {},
   "outputs": [
    {
     "name": "stdout",
     "output_type": "stream",
     "text": [
      "Random Forest Model R2 Score Normalized R-squared: 0.7542\n"
     ]
    }
   ],
   "source": [
    "Rfm_error = mean_squared_error(y_test1,Rfm_pred1)\n",
    "Rfm_r2 = r2_score(y_test1,Rfm_pred1)\n",
    "print(\"Random Forest Model R2 Score Normalized R-squared:\", Rfm_r2.round(4))"
   ]
  },
  {
   "cell_type": "code",
   "execution_count": 10,
   "id": "e0d0a502",
   "metadata": {},
   "outputs": [
    {
     "data": {
      "text/plain": [
       "<matplotlib.collections.PathCollection at 0x1df83979f60>"
      ]
     },
     "execution_count": 10,
     "metadata": {},
     "output_type": "execute_result"
    },
    {
     "data": {
      "image/png": "[encoded data removed]",
      "text/plain": [
       "<Figure size 640x480 with 1 Axes>"
      ]
     },
     "metadata": {},
     "output_type": "display_data"
    }
   ],
   "source": [
    "plt.scatter(y_test1,Rfm_pred1)"
   ]
  },
  {
   "cell_type": "markdown",
   "id": "1210ac92",
   "metadata": {},
   "source": [
    "**Svm Model:**"
   ]
  },
  {
   "cell_type": "markdown",
   "id": "8b8e9862",
   "metadata": {},
   "source": [
    "SVM (Support Vector Machine) is a powerful supervised machine learning algorithm used for both regression and classification tasks.\n",
    "It works by creating a hyperplane or a set of hyperplanes in a high-dimensional feature space that separates different classes or maximizes the margin between data points.\n",
    "\n",
    "SVM is particularly effective in scenarios where the data is not linearly separable. It achieves this by transforming the data into a higher-dimensional space using a kernel function, allowing for more complex decision boundaries"
   ]
  },
  {
   "cell_type": "code",
   "execution_count": 11,
   "id": "40a37eb0",
   "metadata": {
    "scrolled": true
   },
   "outputs": [],
   "source": [
    "svm = SVR()\n",
    "svm.fit(X_train1, y_train1)\n",
    "Svm_pred1 = svm.predict(X_test1)"
   ]
  },
  {
   "cell_type": "code",
   "execution_count": 12,
   "id": "a6dcd07e",
   "metadata": {},
   "outputs": [
    {
     "name": "stdout",
     "output_type": "stream",
     "text": [
      "Support Vector Machine R2 Score Normalized R-squared: 0.7146\n"
     ]
    }
   ],
   "source": [
    "Svm_error = mean_squared_error(y_test1, Svm_pred1)\n",
    "Svm_r2 = r2_score(y_test1, Svm_pred1)\n",
    "print(\"Support Vector Machine R2 Score Normalized R-squared:\", Svm_r2.round(4))"
   ]
  },
  {
   "cell_type": "code",
   "execution_count": 13,
   "id": "b9aab9d5",
   "metadata": {},
   "outputs": [
    {
     "data": {
      "text/plain": [
       "<matplotlib.collections.PathCollection at 0x1df83f42620>"
      ]
     },
     "execution_count": 13,
     "metadata": {},
     "output_type": "execute_result"
    },
    {
     "data": {
      "image/png": "[encoded data removed]",
      "text/plain": [
       "<Figure size 640x480 with 1 Axes>"
      ]
     },
     "metadata": {},
     "output_type": "display_data"
    }
   ],
   "source": [
    "plt.scatter(y_test1,Svm_pred1)"
   ]
  },
  {
   "cell_type": "markdown",
   "id": "58adf622",
   "metadata": {},
   "source": [
    "**Decision Tree Model:**"
   ]
  },
  {
   "cell_type": "markdown",
   "id": "1067890e",
   "metadata": {},
   "source": [
    "A decision tree is a supervised machine learning algorithm that uses a hierarchical structure of decision rules to make predictions or classifications.\n",
    "It represents a flowchart-like structure, where each internal node represents a decision based on a feature, and each leaf node represents an outcome or prediction.\n",
    "\n",
    "The decision tree algorithm learns from the data by recursively splitting the dataset based on the values of different features, aiming to maximize the homogeneity or purity of each resulting subset. This splitting process continues until a stopping criterion is met, such as reaching a maximum depth or having a minimum number of samples in each leaf node."
   ]
  },
  {
   "cell_type": "code",
   "execution_count": 14,
   "id": "44e66a40",
   "metadata": {},
   "outputs": [],
   "source": [
    "clf = tree.DecisionTreeRegressor()\n",
    "trained_model_tree = clf.fit(X=X_train1, y=y_train1)\n",
    "Dt_pred1 = trained_model_tree.predict(X_test1)"
   ]
  },
  {
   "cell_type": "code",
   "execution_count": 15,
   "id": "edd0a858",
   "metadata": {},
   "outputs": [
    {
     "name": "stdout",
     "output_type": "stream",
     "text": [
      "Decision Tree Model R2 Score Normalized R-squared: 0.5661\n"
     ]
    }
   ],
   "source": [
    "Dt_error = mean_squared_error(y_test1, Dt_pred1)\n",
    "Dt_r2 = r2_score(y_test1, Dt_pred1)\n",
    "print(\"Decision Tree Model R2 Score Normalized R-squared:\", Dt_r2.round(4))"
   ]
  },
  {
   "cell_type": "code",
   "execution_count": 16,
   "id": "b3a54606",
   "metadata": {},
   "outputs": [
    {
     "data": {
      "text/plain": [
       "<matplotlib.collections.PathCollection at 0x1df83faf820>"
      ]
     },
     "execution_count": 16,
     "metadata": {},
     "output_type": "execute_result"
    },
    {
     "data": {
      "image/png": "[encoded data removed]",
      "text/plain": [
       "<Figure size 640x480 with 1 Axes>"
      ]
     },
     "metadata": {},
     "output_type": "display_data"
    }
   ],
   "source": [
    "plt.scatter(y_test1,Dt_pred1)"
   ]
  },
  {
   "cell_type": "markdown",
   "id": "bbb1dda7",
   "metadata": {},
   "source": [
    "## Attempts to improve the model"
   ]
  },
  {
   "cell_type": "markdown",
   "id": "53563f9a",
   "metadata": {},
   "source": [
    "To enhance the model's performance, we attempted to improve the score results by scaling the data. Scaling is a common preprocessing step that aims to standardize the range of feature values.\n",
    "\n",
    "By scaling the data, we aimed to bring all features to a similar scale, which can help prevent certain features from dominating the model's learning process."
   ]
  },
  {
   "cell_type": "code",
   "execution_count": 17,
   "id": "3831b066",
   "metadata": {},
   "outputs": [
    {
     "data": {
      "text/html": [
       "<div>\n",
       "<style scoped>\n",
       "    .dataframe tbody tr th:only-of-type {\n",
       "        vertical-align: middle;\n",
       "    }\n",
       "\n",
       "    .dataframe tbody tr th {\n",
       "        vertical-align: top;\n",
       "    }\n",
       "\n",
       "    .dataframe thead th {\n",
       "        text-align: right;\n",
       "    }\n",
       "</style>\n",
       "<table border=\"1\" class=\"dataframe\">\n",
       "  <thead>\n",
       "    <tr style=\"text-align: right;\">\n",
       "      <th></th>\n",
       "      <th>Price</th>\n",
       "      <th>Response Time</th>\n",
       "      <th>No Of Lessons</th>\n",
       "      <th>Popularity Score</th>\n",
       "      <th>Country _Afghanistan</th>\n",
       "      <th>Country _Albania</th>\n",
       "      <th>Country _Algeria</th>\n",
       "      <th>Country _Antigua and Barbuda</th>\n",
       "      <th>Country _Argentina</th>\n",
       "      <th>Country _Armenia</th>\n",
       "      <th>...</th>\n",
       "      <th>English Level_A2</th>\n",
       "      <th>English Level_B1</th>\n",
       "      <th>English Level_B2</th>\n",
       "      <th>English Level_C1</th>\n",
       "      <th>English Level_C2</th>\n",
       "      <th>English Level_Native</th>\n",
       "      <th>Diploma_No</th>\n",
       "      <th>Diploma_Yes</th>\n",
       "      <th>Certificate_No</th>\n",
       "      <th>Certificate_Yes</th>\n",
       "    </tr>\n",
       "  </thead>\n",
       "  <tbody>\n",
       "    <tr>\n",
       "      <th>0</th>\n",
       "      <td>126</td>\n",
       "      <td>5</td>\n",
       "      <td>6473</td>\n",
       "      <td>8.883275</td>\n",
       "      <td>False</td>\n",
       "      <td>False</td>\n",
       "      <td>False</td>\n",
       "      <td>False</td>\n",
       "      <td>False</td>\n",
       "      <td>False</td>\n",
       "      <td>...</td>\n",
       "      <td>True</td>\n",
       "      <td>False</td>\n",
       "      <td>False</td>\n",
       "      <td>False</td>\n",
       "      <td>False</td>\n",
       "      <td>False</td>\n",
       "      <td>True</td>\n",
       "      <td>False</td>\n",
       "      <td>True</td>\n",
       "      <td>False</td>\n",
       "    </tr>\n",
       "    <tr>\n",
       "      <th>1</th>\n",
       "      <td>52</td>\n",
       "      <td>24</td>\n",
       "      <td>560</td>\n",
       "      <td>4.515450</td>\n",
       "      <td>False</td>\n",
       "      <td>False</td>\n",
       "      <td>False</td>\n",
       "      <td>False</td>\n",
       "      <td>False</td>\n",
       "      <td>False</td>\n",
       "      <td>...</td>\n",
       "      <td>False</td>\n",
       "      <td>False</td>\n",
       "      <td>False</td>\n",
       "      <td>False</td>\n",
       "      <td>False</td>\n",
       "      <td>False</td>\n",
       "      <td>True</td>\n",
       "      <td>False</td>\n",
       "      <td>True</td>\n",
       "      <td>False</td>\n",
       "    </tr>\n",
       "    <tr>\n",
       "      <th>2</th>\n",
       "      <td>45</td>\n",
       "      <td>1</td>\n",
       "      <td>10328</td>\n",
       "      <td>9.927292</td>\n",
       "      <td>False</td>\n",
       "      <td>False</td>\n",
       "      <td>False</td>\n",
       "      <td>False</td>\n",
       "      <td>False</td>\n",
       "      <td>False</td>\n",
       "      <td>...</td>\n",
       "      <td>False</td>\n",
       "      <td>False</td>\n",
       "      <td>False</td>\n",
       "      <td>False</td>\n",
       "      <td>False</td>\n",
       "      <td>True</td>\n",
       "      <td>False</td>\n",
       "      <td>True</td>\n",
       "      <td>True</td>\n",
       "      <td>False</td>\n",
       "    </tr>\n",
       "    <tr>\n",
       "      <th>3</th>\n",
       "      <td>74</td>\n",
       "      <td>1</td>\n",
       "      <td>423</td>\n",
       "      <td>3.890756</td>\n",
       "      <td>False</td>\n",
       "      <td>False</td>\n",
       "      <td>False</td>\n",
       "      <td>False</td>\n",
       "      <td>False</td>\n",
       "      <td>False</td>\n",
       "      <td>...</td>\n",
       "      <td>False</td>\n",
       "      <td>False</td>\n",
       "      <td>False</td>\n",
       "      <td>False</td>\n",
       "      <td>False</td>\n",
       "      <td>True</td>\n",
       "      <td>False</td>\n",
       "      <td>True</td>\n",
       "      <td>False</td>\n",
       "      <td>True</td>\n",
       "    </tr>\n",
       "    <tr>\n",
       "      <th>4</th>\n",
       "      <td>67</td>\n",
       "      <td>7</td>\n",
       "      <td>7444</td>\n",
       "      <td>10.526998</td>\n",
       "      <td>False</td>\n",
       "      <td>False</td>\n",
       "      <td>False</td>\n",
       "      <td>False</td>\n",
       "      <td>False</td>\n",
       "      <td>False</td>\n",
       "      <td>...</td>\n",
       "      <td>False</td>\n",
       "      <td>False</td>\n",
       "      <td>False</td>\n",
       "      <td>False</td>\n",
       "      <td>False</td>\n",
       "      <td>True</td>\n",
       "      <td>True</td>\n",
       "      <td>False</td>\n",
       "      <td>False</td>\n",
       "      <td>True</td>\n",
       "    </tr>\n",
       "    <tr>\n",
       "      <th>...</th>\n",
       "      <td>...</td>\n",
       "      <td>...</td>\n",
       "      <td>...</td>\n",
       "      <td>...</td>\n",
       "      <td>...</td>\n",
       "      <td>...</td>\n",
       "      <td>...</td>\n",
       "      <td>...</td>\n",
       "      <td>...</td>\n",
       "      <td>...</td>\n",
       "      <td>...</td>\n",
       "      <td>...</td>\n",
       "      <td>...</td>\n",
       "      <td>...</td>\n",
       "      <td>...</td>\n",
       "      <td>...</td>\n",
       "      <td>...</td>\n",
       "      <td>...</td>\n",
       "      <td>...</td>\n",
       "      <td>...</td>\n",
       "      <td>...</td>\n",
       "    </tr>\n",
       "    <tr>\n",
       "      <th>7303</th>\n",
       "      <td>104</td>\n",
       "      <td>8</td>\n",
       "      <td>1156</td>\n",
       "      <td>3.890756</td>\n",
       "      <td>False</td>\n",
       "      <td>False</td>\n",
       "      <td>False</td>\n",
       "      <td>False</td>\n",
       "      <td>False</td>\n",
       "      <td>False</td>\n",
       "      <td>...</td>\n",
       "      <td>False</td>\n",
       "      <td>False</td>\n",
       "      <td>False</td>\n",
       "      <td>False</td>\n",
       "      <td>False</td>\n",
       "      <td>True</td>\n",
       "      <td>False</td>\n",
       "      <td>True</td>\n",
       "      <td>False</td>\n",
       "      <td>True</td>\n",
       "    </tr>\n",
       "    <tr>\n",
       "      <th>7304</th>\n",
       "      <td>37</td>\n",
       "      <td>2</td>\n",
       "      <td>30</td>\n",
       "      <td>1.505150</td>\n",
       "      <td>False</td>\n",
       "      <td>False</td>\n",
       "      <td>False</td>\n",
       "      <td>False</td>\n",
       "      <td>False</td>\n",
       "      <td>False</td>\n",
       "      <td>...</td>\n",
       "      <td>False</td>\n",
       "      <td>False</td>\n",
       "      <td>False</td>\n",
       "      <td>True</td>\n",
       "      <td>False</td>\n",
       "      <td>False</td>\n",
       "      <td>True</td>\n",
       "      <td>False</td>\n",
       "      <td>False</td>\n",
       "      <td>True</td>\n",
       "    </tr>\n",
       "    <tr>\n",
       "      <th>7305</th>\n",
       "      <td>149</td>\n",
       "      <td>2</td>\n",
       "      <td>62</td>\n",
       "      <td>2.385606</td>\n",
       "      <td>False</td>\n",
       "      <td>False</td>\n",
       "      <td>False</td>\n",
       "      <td>False</td>\n",
       "      <td>False</td>\n",
       "      <td>False</td>\n",
       "      <td>...</td>\n",
       "      <td>False</td>\n",
       "      <td>False</td>\n",
       "      <td>False</td>\n",
       "      <td>False</td>\n",
       "      <td>False</td>\n",
       "      <td>True</td>\n",
       "      <td>False</td>\n",
       "      <td>True</td>\n",
       "      <td>True</td>\n",
       "      <td>False</td>\n",
       "    </tr>\n",
       "    <tr>\n",
       "      <th>7306</th>\n",
       "      <td>75</td>\n",
       "      <td>4</td>\n",
       "      <td>531</td>\n",
       "      <td>3.494850</td>\n",
       "      <td>False</td>\n",
       "      <td>False</td>\n",
       "      <td>False</td>\n",
       "      <td>False</td>\n",
       "      <td>False</td>\n",
       "      <td>False</td>\n",
       "      <td>...</td>\n",
       "      <td>False</td>\n",
       "      <td>False</td>\n",
       "      <td>False</td>\n",
       "      <td>False</td>\n",
       "      <td>False</td>\n",
       "      <td>True</td>\n",
       "      <td>False</td>\n",
       "      <td>True</td>\n",
       "      <td>False</td>\n",
       "      <td>True</td>\n",
       "    </tr>\n",
       "    <tr>\n",
       "      <th>7307</th>\n",
       "      <td>104</td>\n",
       "      <td>2</td>\n",
       "      <td>659</td>\n",
       "      <td>1.505150</td>\n",
       "      <td>False</td>\n",
       "      <td>False</td>\n",
       "      <td>False</td>\n",
       "      <td>False</td>\n",
       "      <td>False</td>\n",
       "      <td>False</td>\n",
       "      <td>...</td>\n",
       "      <td>False</td>\n",
       "      <td>False</td>\n",
       "      <td>False</td>\n",
       "      <td>False</td>\n",
       "      <td>False</td>\n",
       "      <td>True</td>\n",
       "      <td>False</td>\n",
       "      <td>True</td>\n",
       "      <td>False</td>\n",
       "      <td>True</td>\n",
       "    </tr>\n",
       "  </tbody>\n",
       "</table>\n",
       "<p>7308 rows × 154 columns</p>\n",
       "</div>"
      ],
      "text/plain": [
       "      Price  Response Time  No Of Lessons  Popularity Score  \\\n",
       "0       126              5           6473          8.883275   \n",
       "1        52             24            560          4.515450   \n",
       "2        45              1          10328          9.927292   \n",
       "3        74              1            423          3.890756   \n",
       "4        67              7           7444         10.526998   \n",
       "...     ...            ...            ...               ...   \n",
       "7303    104              8           1156          3.890756   \n",
       "7304     37              2             30          1.505150   \n",
       "7305    149              2             62          2.385606   \n",
       "7306     75              4            531          3.494850   \n",
       "7307    104              2            659          1.505150   \n",
       "\n",
       "      Country _Afghanistan  Country _Albania  Country _Algeria  \\\n",
       "0                    False             False             False   \n",
       "1                    False             False             False   \n",
       "2                    False             False             False   \n",
       "3                    False             False             False   \n",
       "4                    False             False             False   \n",
       "...                    ...               ...               ...   \n",
       "7303                 False             False             False   \n",
       "7304                 False             False             False   \n",
       "7305                 False             False             False   \n",
       "7306                 False             False             False   \n",
       "7307                 False             False             False   \n",
       "\n",
       "      Country _Antigua and Barbuda  Country _Argentina  Country _Armenia  ...  \\\n",
       "0                            False               False             False  ...   \n",
       "1                            False               False             False  ...   \n",
       "2                            False               False             False  ...   \n",
       "3                            False               False             False  ...   \n",
       "4                            False               False             False  ...   \n",
       "...                            ...                 ...               ...  ...   \n",
       "7303                         False               False             False  ...   \n",
       "7304                         False               False             False  ...   \n",
       "7305                         False               False             False  ...   \n",
       "7306                         False               False             False  ...   \n",
       "7307                         False               False             False  ...   \n",
       "\n",
       "      English Level_A2  English Level_B1  English Level_B2  English Level_C1  \\\n",
       "0                 True             False             False             False   \n",
       "1                False             False             False             False   \n",
       "2                False             False             False             False   \n",
       "3                False             False             False             False   \n",
       "4                False             False             False             False   \n",
       "...                ...               ...               ...               ...   \n",
       "7303             False             False             False             False   \n",
       "7304             False             False             False              True   \n",
       "7305             False             False             False             False   \n",
       "7306             False             False             False             False   \n",
       "7307             False             False             False             False   \n",
       "\n",
       "      English Level_C2  English Level_Native  Diploma_No  Diploma_Yes  \\\n",
       "0                False                 False        True        False   \n",
       "1                False                 False        True        False   \n",
       "2                False                  True       False         True   \n",
       "3                False                  True       False         True   \n",
       "4                False                  True        True        False   \n",
       "...                ...                   ...         ...          ...   \n",
       "7303             False                  True       False         True   \n",
       "7304             False                 False        True        False   \n",
       "7305             False                  True       False         True   \n",
       "7306             False                  True       False         True   \n",
       "7307             False                  True       False         True   \n",
       "\n",
       "      Certificate_No  Certificate_Yes  \n",
       "0               True            False  \n",
       "1               True            False  \n",
       "2               True            False  \n",
       "3              False             True  \n",
       "4              False             True  \n",
       "...              ...              ...  \n",
       "7303           False             True  \n",
       "7304           False             True  \n",
       "7305            True            False  \n",
       "7306           False             True  \n",
       "7307           False             True  \n",
       "\n",
       "[7308 rows x 154 columns]"
      ]
     },
     "execution_count": 17,
     "metadata": {},
     "output_type": "execute_result"
    }
   ],
   "source": [
    "df3 = df2.copy()\n",
    "df3"
   ]
  },
  {
   "cell_type": "code",
   "execution_count": 18,
   "id": "4fd210c7",
   "metadata": {},
   "outputs": [
    {
     "data": {
      "text/plain": [
       "count    7308.000000\n",
       "mean       61.586344\n",
       "std        40.369666\n",
       "min        11.000000\n",
       "25%        33.000000\n",
       "50%        56.000000\n",
       "75%        78.000000\n",
       "max       373.000000\n",
       "Name: Price, dtype: float64"
      ]
     },
     "execution_count": 18,
     "metadata": {},
     "output_type": "execute_result"
    }
   ],
   "source": [
    "df3['Price'].describe()"
   ]
  },
  {
   "cell_type": "code",
   "execution_count": 19,
   "id": "b36ecbe6",
   "metadata": {},
   "outputs": [
    {
     "data": {
      "text/plain": [
       "count     7308.000000\n",
       "mean       919.185413\n",
       "std       1344.483309\n",
       "min          1.000000\n",
       "25%        130.000000\n",
       "50%        447.000000\n",
       "75%       1167.250000\n",
       "max      21336.000000\n",
       "Name: No Of Lessons, dtype: float64"
      ]
     },
     "execution_count": 19,
     "metadata": {},
     "output_type": "execute_result"
    }
   ],
   "source": [
    "df3['No Of Lessons'].describe()"
   ]
  },
  {
   "cell_type": "markdown",
   "id": "f1436c21",
   "metadata": {},
   "source": [
    "After observing the descriptive statistics of the \"price\" and \"number of lessons\" columns, we noticed a significant disparity between the average, minimum, maximum, and mean values.\n",
    "To address this discrepancy and ensure that these features are on a comparable scale, we made the decision to scale them. By scaling the \"price\" and \"number of lessons\" columns, we aimed to normalize the range of values and bring them into a more consistent and interpretable range. Scaling these columns can help mitigate any potential biases or influences that may arise from the differences in magnitude."
   ]
  },
  {
   "cell_type": "code",
   "execution_count": 20,
   "id": "14270170",
   "metadata": {},
   "outputs": [],
   "source": [
    "numerical_cols = df3.columns[df3.columns.isin(['Price','No Of Lessons'])]"
   ]
  },
  {
   "cell_type": "code",
   "execution_count": 21,
   "id": "1501f64c",
   "metadata": {},
   "outputs": [],
   "source": [
    "z_score_scaler = StandardScaler()\n",
    "df3[numerical_cols] = z_score_scaler.fit_transform(df3[numerical_cols])\n",
    "\n",
    "# min_max_scaler = MinMaxScaler()\n",
    "# df3[numerical_cols] = min_max_scaler.fit_transform(df3[numerical_cols])"
   ]
  },
  {
   "cell_type": "code",
   "execution_count": 22,
   "id": "595c673b",
   "metadata": {},
   "outputs": [
    {
     "data": {
      "text/plain": [
       "count    7308.000000\n",
       "mean        0.000000\n",
       "std         1.000068\n",
       "min        -1.253164\n",
       "25%        -0.708163\n",
       "50%        -0.138389\n",
       "75%         0.406612\n",
       "max         7.714579\n",
       "Name: Price, dtype: float64"
      ]
     },
     "execution_count": 22,
     "metadata": {},
     "output_type": "execute_result"
    }
   ],
   "source": [
    "df3['Price'].describe()"
   ]
  },
  {
   "cell_type": "code",
   "execution_count": 23,
   "id": "6f78db1c",
   "metadata": {
    "scrolled": true
   },
   "outputs": [
    {
     "data": {
      "text/plain": [
       "count    7.308000e+03\n",
       "mean    -4.666947e-17\n",
       "std      1.000068e+00\n",
       "min     -6.829748e-01\n",
       "25%     -5.870206e-01\n",
       "50%     -3.512262e-01\n",
       "75%      1.845181e-01\n",
       "max      1.518666e+01\n",
       "Name: No Of Lessons, dtype: float64"
      ]
     },
     "execution_count": 23,
     "metadata": {},
     "output_type": "execute_result"
    }
   ],
   "source": [
    "df3['No Of Lessons'].describe()"
   ]
  },
  {
   "cell_type": "markdown",
   "id": "ffe0cf2e",
   "metadata": {},
   "source": [
    "We employed techniques like standardization (mean normalization) or normalization (min-max scaling) to rescale the feature values. Standardization transforms the data to have zero mean and unit variance, while normalization scales the data to a specified range, typically between 0 and 1.\n",
    "\n",
    "By scaling the data, we aimed to improve the model's convergence, stability, and overall performance. It can help algorithms to learn faster, avoid numerical instabilities, and make more accurate predictions."
   ]
  },
  {
   "cell_type": "code",
   "execution_count": 24,
   "id": "357bd8a8",
   "metadata": {
    "scrolled": true
   },
   "outputs": [],
   "source": [
    "X = df3.drop(columns = ['Popularity Score'])\n",
    "y = df3['Popularity Score']\n",
    "\n",
    "X_train2, X_test2, y_train2, y_test2 = train_test_split(X,y, test_size=0.2, random_state=42)"
   ]
  },
  {
   "cell_type": "markdown",
   "id": "bfcd461a",
   "metadata": {},
   "source": [
    "**Random Forest Model:**"
   ]
  },
  {
   "cell_type": "code",
   "execution_count": 25,
   "id": "3a051e34",
   "metadata": {},
   "outputs": [],
   "source": [
    "regr = RandomForestRegressor()\n",
    "regr.fit(X=X_train2, y=y_train2)\n",
    "Rfm_pred2 = regr.predict(X_test2)"
   ]
  },
  {
   "cell_type": "code",
   "execution_count": 26,
   "id": "d619c34f",
   "metadata": {},
   "outputs": [
    {
     "name": "stdout",
     "output_type": "stream",
     "text": [
      "Random Forest Model R2 Score Normalized R-squared: 0.7538\n"
     ]
    }
   ],
   "source": [
    "Rfm_error_2 = mean_squared_error(y_test2,Rfm_pred2)\n",
    "Rfm_r2_2 = r2_score(y_test2,Rfm_pred2)\n",
    "print(\"Random Forest Model R2 Score Normalized R-squared:\", Rfm_r2_2.round(4))"
   ]
  },
  {
   "cell_type": "code",
   "execution_count": 27,
   "id": "a52308d2",
   "metadata": {},
   "outputs": [
    {
     "data": {
      "text/plain": [
       "<matplotlib.collections.PathCollection at 0x1df86986a40>"
      ]
     },
     "execution_count": 27,
     "metadata": {},
     "output_type": "execute_result"
    },
    {
     "data": {
      "image/png": "[encoded data removed]",
      "text/plain": [
       "<Figure size 640x480 with 1 Axes>"
      ]
     },
     "metadata": {},
     "output_type": "display_data"
    }
   ],
   "source": [
    "plt.scatter(y_test2,Rfm_pred2)"
   ]
  },
  {
   "cell_type": "markdown",
   "id": "3302f328",
   "metadata": {},
   "source": [
    "**Svm Model:**"
   ]
  },
  {
   "cell_type": "code",
   "execution_count": 28,
   "id": "9444b0de",
   "metadata": {
    "scrolled": true
   },
   "outputs": [],
   "source": [
    "svm = SVR()\n",
    "svm.fit(X_train2, y_train2)\n",
    "Svm_pred2 = svm.predict(X_test2)"
   ]
  },
  {
   "cell_type": "code",
   "execution_count": 29,
   "id": "e45ac755",
   "metadata": {},
   "outputs": [
    {
     "name": "stdout",
     "output_type": "stream",
     "text": [
      "Support Vector Machine R2 Score Normalized R-squared: 0.5883\n"
     ]
    }
   ],
   "source": [
    "Svm_error_2 = mean_squared_error(y_test2, Svm_pred2)\n",
    "Svm_r2_2 = r2_score(y_test2, Svm_pred2)\n",
    "print(\"Support Vector Machine R2 Score Normalized R-squared:\", Svm_r2_2.round(4))"
   ]
  },
  {
   "cell_type": "code",
   "execution_count": 30,
   "id": "e54c018e",
   "metadata": {},
   "outputs": [
    {
     "data": {
      "text/plain": [
       "<matplotlib.collections.PathCollection at 0x1df869eb2b0>"
      ]
     },
     "execution_count": 30,
     "metadata": {},
     "output_type": "execute_result"
    },
    {
     "data": {
      "image/png": "[encoded data removed]",
      "text/plain": [
       "<Figure size 640x480 with 1 Axes>"
      ]
     },
     "metadata": {},
     "output_type": "display_data"
    }
   ],
   "source": [
    "plt.scatter(y_test2,Svm_pred2)"
   ]
  },
  {
   "cell_type": "markdown",
   "id": "5b26a9c8",
   "metadata": {},
   "source": [
    "**Decision Tree Model:**"
   ]
  },
  {
   "cell_type": "code",
   "execution_count": 31,
   "id": "7f9760fc",
   "metadata": {},
   "outputs": [],
   "source": [
    "clf = tree.DecisionTreeRegressor()\n",
    "trained_model_tree = clf.fit(X=X_train2, y=y_train2)\n",
    "Dt_pred2 = trained_model_tree.predict(X_test2)"
   ]
  },
  {
   "cell_type": "code",
   "execution_count": 32,
   "id": "a43e7671",
   "metadata": {},
   "outputs": [
    {
     "name": "stdout",
     "output_type": "stream",
     "text": [
      "Decision Tree Model R2 Score Normalized R-squared: 0.5671\n"
     ]
    }
   ],
   "source": [
    "Dt_error_2 = mean_squared_error(y_test2, Dt_pred2)\n",
    "Dt_r2_2 = r2_score(y_test2, Dt_pred2)\n",
    "print(\"Decision Tree Model R2 Score Normalized R-squared:\", Dt_r2_2.round(4))"
   ]
  },
  {
   "cell_type": "code",
   "execution_count": 33,
   "id": "fb0c52df",
   "metadata": {},
   "outputs": [
    {
     "data": {
      "text/plain": [
       "<matplotlib.collections.PathCollection at 0x1df86437640>"
      ]
     },
     "execution_count": 33,
     "metadata": {},
     "output_type": "execute_result"
    },
    {
     "data": {
      "image/png": "[encoded data removed]",
      "text/plain": [
       "<Figure size 640x480 with 1 Axes>"
      ]
     },
     "metadata": {},
     "output_type": "display_data"
    }
   ],
   "source": [
    "plt.scatter(y_test2,Dt_pred2)"
   ]
  },
  {
   "cell_type": "markdown",
   "id": "25345540",
   "metadata": {},
   "source": [
    "**After scaling the data, we retrained the model and evaluated its performance to assess if there was any improvement in the score results.\n",
    "Unfortunately, despite our efforts, we did not observe any significant improvement in the model's performance**"
   ]
  },
  {
   "cell_type": "markdown",
   "id": "2fbc5e45",
   "metadata": {},
   "source": [
    "In this table, we can observe the predictions made by the machine learning model alongside the true values. It provides a comprehensive overview of how well the model performed in predicting the target variable\n"
   ]
  },
  {
   "cell_type": "code",
   "execution_count": 34,
   "id": "be66c65a",
   "metadata": {},
   "outputs": [],
   "source": [
    "df_check = df2.copy()\n",
    "Raw_values = df_check['Popularity Score']\n",
    "df_check = df_check.drop(columns = ['Popularity Score'])"
   ]
  },
  {
   "cell_type": "code",
   "execution_count": 35,
   "id": "58abe3aa",
   "metadata": {
    "scrolled": true
   },
   "outputs": [
    {
     "data": {
      "text/html": [
       "<div>\n",
       "<style scoped>\n",
       "    .dataframe tbody tr th:only-of-type {\n",
       "        vertical-align: middle;\n",
       "    }\n",
       "\n",
       "    .dataframe tbody tr th {\n",
       "        vertical-align: top;\n",
       "    }\n",
       "\n",
       "    .dataframe thead th {\n",
       "        text-align: right;\n",
       "    }\n",
       "</style>\n",
       "<table border=\"1\" class=\"dataframe\">\n",
       "  <thead>\n",
       "    <tr style=\"text-align: right;\">\n",
       "      <th></th>\n",
       "      <th>Raw</th>\n",
       "      <th>predicted</th>\n",
       "      <th>percentage</th>\n",
       "    </tr>\n",
       "  </thead>\n",
       "  <tbody>\n",
       "    <tr>\n",
       "      <th>0</th>\n",
       "      <td>8.883275</td>\n",
       "      <td>10.4449</td>\n",
       "      <td>85.05</td>\n",
       "    </tr>\n",
       "    <tr>\n",
       "      <th>1</th>\n",
       "      <td>4.515450</td>\n",
       "      <td>10.5903</td>\n",
       "      <td>42.64</td>\n",
       "    </tr>\n",
       "    <tr>\n",
       "      <th>2</th>\n",
       "      <td>9.927292</td>\n",
       "      <td>10.9678</td>\n",
       "      <td>90.51</td>\n",
       "    </tr>\n",
       "    <tr>\n",
       "      <th>3</th>\n",
       "      <td>3.890756</td>\n",
       "      <td>11.6822</td>\n",
       "      <td>33.30</td>\n",
       "    </tr>\n",
       "    <tr>\n",
       "      <th>4</th>\n",
       "      <td>10.526998</td>\n",
       "      <td>10.7664</td>\n",
       "      <td>97.78</td>\n",
       "    </tr>\n",
       "    <tr>\n",
       "      <th>...</th>\n",
       "      <td>...</td>\n",
       "      <td>...</td>\n",
       "      <td>...</td>\n",
       "    </tr>\n",
       "    <tr>\n",
       "      <th>7303</th>\n",
       "      <td>3.890756</td>\n",
       "      <td>10.5670</td>\n",
       "      <td>36.82</td>\n",
       "    </tr>\n",
       "    <tr>\n",
       "      <th>7304</th>\n",
       "      <td>1.505150</td>\n",
       "      <td>11.5905</td>\n",
       "      <td>12.99</td>\n",
       "    </tr>\n",
       "    <tr>\n",
       "      <th>7305</th>\n",
       "      <td>2.385606</td>\n",
       "      <td>11.0120</td>\n",
       "      <td>21.66</td>\n",
       "    </tr>\n",
       "    <tr>\n",
       "      <th>7306</th>\n",
       "      <td>3.494850</td>\n",
       "      <td>10.8694</td>\n",
       "      <td>32.15</td>\n",
       "    </tr>\n",
       "    <tr>\n",
       "      <th>7307</th>\n",
       "      <td>1.505150</td>\n",
       "      <td>11.7517</td>\n",
       "      <td>12.81</td>\n",
       "    </tr>\n",
       "  </tbody>\n",
       "</table>\n",
       "<p>7308 rows × 3 columns</p>\n",
       "</div>"
      ],
      "text/plain": [
       "            Raw  predicted  percentage\n",
       "0      8.883275    10.4449       85.05\n",
       "1      4.515450    10.5903       42.64\n",
       "2      9.927292    10.9678       90.51\n",
       "3      3.890756    11.6822       33.30\n",
       "4     10.526998    10.7664       97.78\n",
       "...         ...        ...         ...\n",
       "7303   3.890756    10.5670       36.82\n",
       "7304   1.505150    11.5905       12.99\n",
       "7305   2.385606    11.0120       21.66\n",
       "7306   3.494850    10.8694       32.15\n",
       "7307   1.505150    11.7517       12.81\n",
       "\n",
       "[7308 rows x 3 columns]"
      ]
     },
     "execution_count": 35,
     "metadata": {},
     "output_type": "execute_result"
    }
   ],
   "source": [
    "Rf_pred_check = regr.predict(df_check)\n",
    "df = pd.DataFrame({'Raw':Raw_values,'predicted':Rf_pred_check.round(4)})\n",
    "df['percentage'] = ((pd.DataFrame({'min_percentage': df['predicted'] / df['Raw'], 'max_percentage': df['Raw'] / df['predicted']})).min(axis=1) * 100).round(2)\n",
    "    \n",
    "df"
   ]
  },
  {
   "cell_type": "markdown",
   "id": "7c42fc36",
   "metadata": {},
   "source": [
    "The graph illustrates the distribution of all the values in our dataset in comparison to the model's predictions. The graph provides a visual representation of the data.\n",
    "The scatter plots show the relationship between the true values (y_test) and the predicted values (lr_pred, svm_pred, rf_pred) for each model. The x-axis and y-axis are both displayed on a logarithmic scale. The blue line represents a perfect prediction, where the true values and predicted values are equal. "
   ]
  },
  {
   "cell_type": "code",
   "execution_count": 36,
   "id": "a5a56d7a",
   "metadata": {},
   "outputs": [
    {
     "data": {
      "image/png": "[encoded data removed]",
      "text/plain": [
       "<Figure size 1500x500 with 3 Axes>"
      ]
     },
     "metadata": {},
     "output_type": "display_data"
    }
   ],
   "source": [
    "# Predictions before improving\n",
    "\n",
    "plt.figure(figsize=(15, 5))\n",
    "# Subplot 1:\n",
    "plt.subplot(1, 3, 1)\n",
    "plt.scatter(y_test1, Rfm_pred1, c='crimson')\n",
    "plt.yscale('log')\n",
    "plt.xscale('log')\n",
    "p1 = max(max(y_test1), max(Rfm_pred1))\n",
    "p2 = min(min(y_test1), min(Rfm_pred1))\n",
    "plt.plot([p1, p2], [p1, p2], 'b-')\n",
    "plt.xlabel('True Values', fontsize=15)\n",
    "plt.ylabel('Predictions', fontsize=15)\n",
    "plt.title('Random Forest Tree', fontsize=15)\n",
    "plt.axis('equal')\n",
    "\n",
    "# Subplot 2:\n",
    "plt.subplot(1, 3, 2)\n",
    "plt.scatter(y_test1, Svm_pred1, c='crimson')\n",
    "plt.yscale('log')\n",
    "plt.xscale('log')\n",
    "p1 = max(max(y_test1), max(Svm_pred1))\n",
    "p2 = min(min(y_test1), min(Svm_pred1))\n",
    "plt.plot([p1, p2], [p1, p2], 'b-')\n",
    "plt.xlabel('True Values', fontsize=15)\n",
    "plt.ylabel('Predictions', fontsize=15)\n",
    "plt.title('Support Vector Machine', fontsize=15)\n",
    "plt.axis('equal')\n",
    "\n",
    "\n",
    "# Subplot 3:\n",
    "plt.subplot(1, 3, 3)\n",
    "plt.scatter(y_test1, Dt_pred1, c='crimson')\n",
    "plt.yscale('log')\n",
    "plt.xscale('log')\n",
    "p1 = max(max(y_test1), max(Dt_pred1))\n",
    "p2 = min(min(y_test1), min(Dt_pred1))\n",
    "plt.plot([p1, p2], [p1, p2], 'b-')\n",
    "plt.xlabel('True Values', fontsize=15)\n",
    "plt.ylabel('Predictions', fontsize=15)\n",
    "plt.title('Decision Tree', fontsize=15)\n",
    "plt.axis('equal')\n",
    "\n",
    "plt.tight_layout()\n",
    "plt.show()"
   ]
  },
  {
   "cell_type": "markdown",
   "id": "55ac192b",
   "metadata": {},
   "source": [
    "## Conclusions\n",
    "\n",
    "\n",
    "In conclusion, our research demonstrates that it is possible to predict the popularity of  English tutors on the Preply platform with a high success rate (above 75%). \n",
    "\n",
    "- Feature Importance: Through our analysis, we determined that the \"Number of Lessons\" was the most influential feature in predicting the popularity of English tutors. This underscores the importance of experience and the number of lessons taught in establishing a teacher's reputation and attracting students.\n",
    "\n",
    "- Surprisingly, the \"Price\" and \"Response Time\" columns did not exhibit a strong correlation with the target column, contrary to our initial expectations. \n",
    "\n",
    "- ML Performance: Among the algorithms we experimented with, the Random Forest model yielded the highest R2 score, indicating its effectiveness in predicting the popularity of English tutors. This reinforces the effectiveness of ensemble methods in capturing complex relationships within the dataset and making accurate predictions.\n",
    "\n",
    "- Importance of Data Preprocessing: Data preprocessing steps, such as handling missing values, handling outliers, scaling features, and encoding categorical variables, are crucial in improving the performance of machine learning models. These steps ensure that the data is appropriately prepared and can be effectively utilized by the algorithms.\n",
    "\n",
    "- Further Exploration: While our analysis focused on the specific task of predicting popularity on the Preply platform, there are opportunities for further exploration and research.\n",
    "\n",
    "\n",
    "Undertaking this project has been both challenging and enlightening, providing valuable insights into the field of data science. We have gained a deeper understanding of data preprocessing, feature engineering, exploratory data analysis, model evaluation, and machine learning techniques. We are eager to apply these skills to future projects and continue expanding our knowledge in this domain."
   ]
  }
 ],
 "metadata": {
  "kernelspec": {
   "display_name": "Python 3 (ipykernel)",
   "language": "python",
   "name": "python3"
  },
  "language_info": {
   "codemirror_mode": {
    "name": "ipython",
    "version": 3
   },
   "file_extension": ".py",
   "mimetype": "text/x-python",
   "name": "python",
   "nbconvert_exporter": "python",
   "pygments_lexer": "ipython3",
   "version": "3.10.9"
  }
 },
 "nbformat": 4,
 "nbformat_minor": 5
}
