{
 "cells": [
  {
   "cell_type": "markdown",
   "id": "9314b0f5",
   "metadata": {},
   "source": [
    "# Research Question: Can We Predict Success Of  English Tutors On The Preply Platform?"
   ]
  },
  {
   "cell_type": "markdown",
   "id": "d9b0e195",
   "metadata": {},
   "source": [
    "### by: Guy Mizrahi and Eden Tzagai"
   ]
  },
  {
   "cell_type": "markdown",
   "id": "a84912c9",
   "metadata": {},
   "source": [
    "![title](teacher_english.webp)"
   ]
  },
  {
   "cell_type": "markdown",
   "id": "cad7d9da",
   "metadata": {},
   "source": [
    "Preply is an online platform that facilitates global connections between students and tutors.\n",
    "Selecting an appropriate tutor is of utmost importance as it guarantees a personalized learning experience, expertise in the subject matter, proficient communication, as well as motivation and support.\n",
    "\n",
    "We have opted to focus on this particular topic due to its potential to enhance educational outcomes. By identifying the pivotal factors that contribute to effective teaching, we aim to assist students in finding the most fitting tutors and thereby improving their learning experience.\n",
    "\n",
    "The purpose of this study is to examine the feasibility of predicting the success of English tutors on the Preply platform. The research question focuses on determining whether it is possible to forecast the level of success achieved by English tutors based on specific variables and factors within the context of the Preply platform. By investigating this research question, the study aims to contribute to the field of online education by identifying potential indicators that can be used to predict the success of English tutors specifically on the Preply platform"
   ]
  },
  {
   "cell_type": "markdown",
   "id": "41a7faf6",
   "metadata": {},
   "source": [
    "### Our dataset is made of the following columns:\n",
    "- Name:The name of the tutor\n",
    "- Country:The tutor's country of origin\n",
    "- English Level:The level of English proficiency of the tutor\n",
    "- Price:The specified fee for tutoring services\n",
    "- Diploma:The educational degree accredited by the website\n",
    "- Certificate:The certification recognized and approved by the website\n",
    "- Response Time:The average time taken by the tutor to respond\n",
    "- Number Of Lessons:The total number of lessons conducted by the tutor.\n",
    "- Stars:The rating awarded to the tutor based on student feedback\n",
    "- Reviews:The number of reviews received by the tutor.\n",
    "- Popularity Score: This column is not currently available on the website but is necessary for calculating the average score derived from the combination of star ratings and reviews.\n",
    "\n",
    "- **Popularity Score:Our target column, representing the popularity score of each tutor.**\n"
   ]
  },
  {
   "cell_type": "markdown",
   "id": "ab9f52ca",
   "metadata": {},
   "source": [
    "# Data Collection:"
   ]
  },
  {
   "cell_type": "markdown",
   "id": "1b5d4f1b",
   "metadata": {},
   "source": [
    "On the Preply platform, there is a comprehensive list of online English tutors available at the following link: [link](https://preply.com/en/online/english-tutors).\n",
    "Each page contains profiles of 10 tutors, with approximately 1500 pages in total.\n",
    "Our Scraper systematically navigates through each page, accessing individual tutor profile cards, and extracts the necessary information.\n",
    "To ensure data integrity and as a precautionary measure against potential failures, our system periodically saves the current information onto a CSV file after processing every 100 tutors."
   ]
  },
  {
   "cell_type": "markdown",
   "id": "642cec5e",
   "metadata": {},
   "source": [
    "##### Libraries import"
   ]
  },
  {
   "cell_type": "code",
   "execution_count": 1,
   "id": "245df8f4",
   "metadata": {},
   "outputs": [],
   "source": [
    "from tqdm import tqdm\n",
    "import pandas as pd\n",
    "import requests\n",
    "import numpy as np\n",
    "from bs4 import BeautifulSoup\n",
    "import time\n",
    "import random\n",
    "import csv"
   ]
  },
  {
   "cell_type": "code",
   "execution_count": 2,
   "id": "b0029215",
   "metadata": {},
   "outputs": [],
   "source": [
    "# All the variables and arrays we will need\n",
    "\n",
    "all_links = [] # Will save the links of all profiles from the site\n",
    "url = \"https://preply.com/en/online/english-tutors\" # The necessary link template\n",
    "page_number = 1 # An iterator for traversing all pages \n",
    "\n",
    "#************************************************************************************#"
   ]
  },
  {
   "cell_type": "code",
   "execution_count": null,
   "id": "f4ce5232",
   "metadata": {},
   "outputs": [],
   "source": [
    "# The loop runs over all the pages on the site\n",
    "\n",
    "while tqdm(page_number != 1497):\n",
    "    \n",
    "    # parses list page\n",
    "    current_url = f\"{url}?page={page_number}\"\n",
    "    response = requests.get(current_url)\n",
    "    print(current_url)\n",
    "    print(response)\n",
    "    time.sleep(random.randint(1, 4))\n",
    "    soup = BeautifulSoup(response.content, 'html.parser')\n",
    "    mtag = soup.findAll(\"li\",attrs={\"class\":\"styles_TutorCardWrapper__0Awqa\"})  # creates a list of all profile links in the page\n",
    "    #************************************************************************************#\n",
    "    \n",
    "    \n",
    "    # The loop runs over all the profiles on the page we run on\n",
    "    for user in tqdm(mtag):\n",
    "        time.sleep(random.randint(1,4))\n",
    "        link = user.find(\"a\").get(\"href\") # Search the links of each profile on the page\n",
    "        all_links.append(link) # Adding the links of each profile from the page\n",
    "    #************************************************************************************#\n",
    "        \n",
    "        \n",
    "        \n",
    "    page_number += 1\n",
    "#************************************************************************************#"
   ]
  },
  {
   "cell_type": "code",
   "execution_count": 3,
   "id": "62cd347b",
   "metadata": {},
   "outputs": [],
   "source": [
    "# A function that will be used by us to back up information\n",
    "\n",
    "def save_file(data):\n",
    "    df = pd.DataFrame(data,columns=['Name','Country ','English Level','Price','Diploma','Certificate','Response Time','No Of Lessons','Stars','Reviews'])\n",
    "    return df\n",
    "\n",
    "#************************************************************************************#"
   ]
  },
  {
   "cell_type": "code",
   "execution_count": 4,
   "id": "e1edc7ae",
   "metadata": {},
   "outputs": [],
   "source": [
    "# All the variables and arrays we will need\n",
    "\n",
    "data = [] # Will save the information of all profiles in total\n",
    "fail_links = [] # Will save the links to the profiles that we were unable to extract information\n",
    "data_row = [] # will save the information for the profile we are running on\n",
    "counter = 0 # An iterator for the backup function\n",
    "\n",
    "#************************************************************************************#"
   ]
  },
  {
   "cell_type": "code",
   "execution_count": null,
   "id": "55d00bee",
   "metadata": {},
   "outputs": [],
   "source": [
    "# The loop runs over each page in the list of all_links\n",
    "\n",
    "for url in tqdm(links_list):\n",
    "    \n",
    "    data_row = []\n",
    "    #this 'if' statement is for back up information due to failures beyond our control (such as internet connection,etc..)\n",
    "    if (counter%100) == 0:\n",
    "        file = save_file(data)\n",
    "        file.to_csv(r'C:\\Users\\User\\Desktop\\לימודים\\מדעי המחשב\\מדעי הנתונים\\Backup.csv')\n",
    "    #************************************************************************************#\n",
    "    \n",
    "    \n",
    "    # parses list page\n",
    "    try:\n",
    "        r = requests.get(url)\n",
    "    except:\n",
    "        fail_links.append(url)\n",
    "        continue \n",
    "    soup = BeautifulSoup(r.content, 'html.parser')\n",
    "    time.sleep(random.randint(1,3)) #we had problems with parsing the page so we added the pause so the page had time to load\n",
    "    #************************************************************************************#\n",
    "    \n",
    "    \n",
    "    \n",
    "    \n",
    "    # The information we want to extract from each link\n",
    "    Name = soup.find(\"h2\",attrs = {\"class\":\"styles_name__hxfD2\"})\n",
    "    Country = soup.find(\"img\",attrs = {\"class\":\"styles_flag__fK4O5\"})\n",
    "    Level = soup.find(\"span\",attrs = {\"class\":\"styles_levelBadge__SmCyl\"}) \n",
    "    Price = soup.find(\"div\",attrs = {\"class\":\"styles_PriceIndicatorValue__ndpfb\"})\n",
    "    Lessons = soup.find(\"span\",attrs = {\"class\":\"styles_totalLessons__VRT0h\"}) \n",
    "    Stars = soup.find(\"div\",attrs = {\"class\":\"styles_RatingIndicatorRating__h_dIR\"})\n",
    "    Reviews = soup.find(\"div\",attrs = {\"class\":\"styles_ReviewsNumber__9r_a6\"})\n",
    "    Response = soup.find(\"span\",attrs = {\"class\":\"styles_ResponseTimeText__1x_eT\"})\n",
    "    Diploma = soup.find(\"span\",attrs = {\"class\":\"styles_diploma__gz7I2\"})\n",
    "    Certificate = soup.find(\"span\",attrs = {\"class\":\"styles_diploma__E7bks\"})\n",
    "    time.sleep(random.randint(1,3))\n",
    "    #************************************************************************************#\n",
    "\n",
    "    \n",
    "    #this 'if'/'try and expet' statement is for each profile card that created a specific problem that couldnt be solved (not all variables exist in every profile, etc..)\n",
    "    try:\n",
    "        data_row.append(Name.text)\n",
    "    except:\n",
    "        data_row.append(np.nan)\n",
    "\n",
    "    try:\n",
    "        if (Country==None):\n",
    "            Country = soup.find(\"span\",attrs = {\"class\":\"khPkeq _3pLfSK _1oG1KT\"})\n",
    "            data_row.append(Country.text)\n",
    "        else:\n",
    "            Country2 = Country['alt']\n",
    "            data_row.append(Country2)\n",
    "    except:\n",
    "        data_row.append(np.nan)\n",
    "        \n",
    "    try:\n",
    "        data_row.append(Level.text)\n",
    "    except:\n",
    "        data_row.append(np.nan)\n",
    "        \n",
    "    try:\n",
    "        data_row.append(Price.text)\n",
    "    except:\n",
    "        data_row.append(np.nan)\n",
    "    \n",
    "    if(Lessons != None):\n",
    "        data_row.append(Lessons.text)\n",
    "    else: data_row.append(np.nan)\n",
    "    \n",
    "    if(Stars != None):\n",
    "        data_row.append(Stars.text)\n",
    "    else: data_row.append(np.nan)\n",
    "    \n",
    "    if(Reviews != None):\n",
    "        data_row.append(Reviews.text)\n",
    "    else: data_row.append(np.nan)\n",
    "        \n",
    "    if(Response != None):\n",
    "        data_row.append(Response.text)\n",
    "    else: data_row.append(np.nan)     \n",
    "        \n",
    "    if(Diploma != None):\n",
    "        data_row.append(Diploma.text)\n",
    "    else: data_row.append(np.nan)\n",
    "    \n",
    "    if(Certificate != None):\n",
    "        data_row.append(Certificate.text)\n",
    "    else: data_row.append(np.nan)\n",
    "    #************************************************************************************#\n",
    "   \n",
    "\n",
    "\n",
    "\n",
    "    \n",
    "    data.append(data_row) # Added each profile to our final database\n",
    "    counter += 1 \n",
    "    \n",
    "#************************************************************************************#\n",
    "#end of loop"
   ]
  },
  {
   "cell_type": "code",
   "execution_count": 5,
   "id": "ce6de034",
   "metadata": {},
   "outputs": [
    {
     "data": {
      "text/html": [
       "<div>\n",
       "<style scoped>\n",
       "    .dataframe tbody tr th:only-of-type {\n",
       "        vertical-align: middle;\n",
       "    }\n",
       "\n",
       "    .dataframe tbody tr th {\n",
       "        vertical-align: top;\n",
       "    }\n",
       "\n",
       "    .dataframe thead th {\n",
       "        text-align: right;\n",
       "    }\n",
       "</style>\n",
       "<table border=\"1\" class=\"dataframe\">\n",
       "  <thead>\n",
       "    <tr style=\"text-align: right;\">\n",
       "      <th></th>\n",
       "      <th>Fail Links</th>\n",
       "    </tr>\n",
       "  </thead>\n",
       "  <tbody>\n",
       "  </tbody>\n",
       "</table>\n",
       "</div>"
      ],
      "text/plain": [
       "Empty DataFrame\n",
       "Columns: [Fail Links]\n",
       "Index: []"
      ]
     },
     "execution_count": 5,
     "metadata": {},
     "output_type": "execute_result"
    }
   ],
   "source": [
    "# creating a dataframe of the tutors links that added to this database (all the fail links)\n",
    "fail_links_df = pd.DataFrame(fail_links,columns=['Fail Links'])\n",
    "fail_links_df "
   ]
  },
  {
   "cell_type": "code",
   "execution_count": 6,
   "id": "fae190d4",
   "metadata": {},
   "outputs": [],
   "source": [
    "# creating a dataframe of the tutors.\n",
    "df = pd.DataFrame(data,columns=['Name','Country ','English Level','Price','Diploma','Certificate','Response Time','No Of Lessons','Stars','Reviews'])"
   ]
  },
  {
   "cell_type": "markdown",
   "id": "4fd7f7aa",
   "metadata": {},
   "source": [
    "##### This is our raw dataset"
   ]
  },
  {
   "cell_type": "code",
   "execution_count": 7,
   "id": "a887acb7",
   "metadata": {},
   "outputs": [
    {
     "data": {
      "text/html": [
       "<div>\n",
       "<style scoped>\n",
       "    .dataframe tbody tr th:only-of-type {\n",
       "        vertical-align: middle;\n",
       "    }\n",
       "\n",
       "    .dataframe tbody tr th {\n",
       "        vertical-align: top;\n",
       "    }\n",
       "\n",
       "    .dataframe thead th {\n",
       "        text-align: right;\n",
       "    }\n",
       "</style>\n",
       "<table border=\"1\" class=\"dataframe\">\n",
       "  <thead>\n",
       "    <tr style=\"text-align: right;\">\n",
       "      <th></th>\n",
       "      <th>Name</th>\n",
       "      <th>Country</th>\n",
       "      <th>English Level</th>\n",
       "      <th>Price</th>\n",
       "      <th>Diploma</th>\n",
       "      <th>Certificate</th>\n",
       "      <th>Response Time</th>\n",
       "      <th>No Of Lessons</th>\n",
       "      <th>Stars</th>\n",
       "      <th>Reviews</th>\n",
       "    </tr>\n",
       "  </thead>\n",
       "  <tbody>\n",
       "  </tbody>\n",
       "</table>\n",
       "</div>"
      ],
      "text/plain": [
       "Empty DataFrame\n",
       "Columns: [Name, Country , English Level, Price, Diploma, Certificate, Response Time, No Of Lessons, Stars, Reviews]\n",
       "Index: []"
      ]
     },
     "execution_count": 7,
     "metadata": {},
     "output_type": "execute_result"
    }
   ],
   "source": [
    "df"
   ]
  },
  {
   "cell_type": "code",
   "execution_count": 8,
   "id": "8a1fd427",
   "metadata": {},
   "outputs": [],
   "source": [
    "# df.to_csv('Data Frame (After Setp 1).csv', index=False)\n",
    "# df.to_excel('Data Frame (After Setp 1).xlsx', index=False)"
   ]
  }
 ],
 "metadata": {
  "kernelspec": {
   "display_name": "Python 3 (ipykernel)",
   "language": "python",
   "name": "python3"
  },
  "language_info": {
   "codemirror_mode": {
    "name": "ipython",
    "version": 3
   },
   "file_extension": ".py",
   "mimetype": "text/x-python",
   "name": "python",
   "nbconvert_exporter": "python",
   "pygments_lexer": "ipython3",
   "version": "3.10.9"
  }
 },
 "nbformat": 4,
 "nbformat_minor": 5
}
